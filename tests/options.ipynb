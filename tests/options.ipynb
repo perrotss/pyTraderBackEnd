{
 "cells": [
  {
   "cell_type": "markdown",
   "metadata": {},
   "source": [
    "Option chains\n",
    "======="
   ]
  },
  {
   "cell_type": "code",
   "execution_count": 247,
   "metadata": {
    "scrolled": true
   },
   "outputs": [
    {
     "data": {
      "text/plain": [
       "<IB connected to 127.0.0.1:7496 clientId=6197>"
      ]
     },
     "execution_count": 247,
     "metadata": {},
     "output_type": "execute_result"
    }
   ],
   "source": [
    "from ib_insync import *\n",
    "util.startLoop()\n",
    "import random\n",
    "ib = IB()\n",
    "if(ib.isConnected()):\n",
    "    ib.disconnect()\n",
    "random_id = random.randint(0, 9999)\n",
    "ib.connect('127.0.0.1', 7496, clientId=random_id)"
   ]
  },
  {
   "cell_type": "markdown",
   "metadata": {},
   "source": [
    "Suppose we want to find the options on the SPX, with the following conditions:\n",
    "\n",
    "* Use the next three monthly expiries;\n",
    "* Use strike prices within +- 20 dollar of the current SPX value;\n",
    "* Use strike prices that are a multitude of 5 dollar."
   ]
  },
  {
   "cell_type": "markdown",
   "metadata": {},
   "source": [
    "To get the current market value, first create a contract for the underlyer (the S&P 500 index):"
   ]
  },
  {
   "cell_type": "code",
   "execution_count": 248,
   "metadata": {},
   "outputs": [
    {
     "data": {
      "text/plain": [
       "[Index(conId=416904, symbol='SPX', exchange='CBOE', currency='USD', localSymbol='SPX')]"
      ]
     },
     "execution_count": 248,
     "metadata": {},
     "output_type": "execute_result"
    }
   ],
   "source": [
    "#spx = Stock('spx','ARCA','USD')\n",
    "spx = Index('SPX', 'CBOE')\n",
    "ib.qualifyContracts(spx)"
   ]
  },
  {
   "cell_type": "markdown",
   "metadata": {},
   "source": [
    "To avoid issues with market data permissions, we'll use delayed data:"
   ]
  },
  {
   "cell_type": "code",
   "execution_count": 249,
   "metadata": {},
   "outputs": [],
   "source": [
    "ib.reqMarketDataType(4)"
   ]
  },
  {
   "cell_type": "markdown",
   "metadata": {},
   "source": [
    "Then get the ticker. Requesting a ticker can take up to 11 seconds."
   ]
  },
  {
   "cell_type": "code",
   "execution_count": 250,
   "metadata": {},
   "outputs": [
    {
     "data": {
      "text/plain": [
       "Ticker(contract=Index(conId=416904, symbol='SPX', exchange='CBOE', currency='USD', localSymbol='SPX'), time=datetime.datetime(2022, 11, 11, 10, 33, 40, 154370, tzinfo=datetime.timezone.utc), marketDataType=3, minTick=0.01, bid=-1.0, bidSize=0.0, ask=-1.0, askSize=0.0, last=3954.34, lastSize=1.0, close=3956.37)"
      ]
     },
     "execution_count": 250,
     "metadata": {},
     "output_type": "execute_result"
    }
   ],
   "source": [
    "[ticker] = ib.reqTickers(spx)\n",
    "ticker"
   ]
  },
  {
   "cell_type": "markdown",
   "metadata": {},
   "source": [
    "Take the current market value of the ticker:"
   ]
  },
  {
   "cell_type": "code",
   "execution_count": 251,
   "metadata": {},
   "outputs": [
    {
     "data": {
      "text/plain": [
       "3954.34"
      ]
     },
     "execution_count": 251,
     "metadata": {},
     "output_type": "execute_result"
    }
   ],
   "source": [
    "spxValue = ticker.marketPrice()\n",
    "if(str(spxValue)==\"nan\"):\n",
    "    spxValue=395\n",
    "spxValue"
   ]
  },
  {
   "cell_type": "markdown",
   "metadata": {},
   "source": [
    "The following request fetches a list of option chains:"
   ]
  },
  {
   "cell_type": "code",
   "execution_count": 252,
   "metadata": {},
   "outputs": [
    {
     "data": {
      "text/html": [
       "<div>\n",
       "<style scoped>\n",
       "    .dataframe tbody tr th:only-of-type {\n",
       "        vertical-align: middle;\n",
       "    }\n",
       "\n",
       "    .dataframe tbody tr th {\n",
       "        vertical-align: top;\n",
       "    }\n",
       "\n",
       "    .dataframe thead th {\n",
       "        text-align: right;\n",
       "    }\n",
       "</style>\n",
       "<table border=\"1\" class=\"dataframe\">\n",
       "  <thead>\n",
       "    <tr style=\"text-align: right;\">\n",
       "      <th></th>\n",
       "      <th>exchange</th>\n",
       "      <th>underlyingConId</th>\n",
       "      <th>tradingClass</th>\n",
       "      <th>multiplier</th>\n",
       "      <th>expirations</th>\n",
       "      <th>strikes</th>\n",
       "    </tr>\n",
       "  </thead>\n",
       "  <tbody>\n",
       "    <tr>\n",
       "      <th>0</th>\n",
       "      <td>SMART</td>\n",
       "      <td>416904</td>\n",
       "      <td>SPX</td>\n",
       "      <td>100</td>\n",
       "      <td>[20221117, 20221215, 20230119, 20230216, 20230...</td>\n",
       "      <td>[100.0, 200.0, 300.0, 400.0, 500.0, 600.0, 700...</td>\n",
       "    </tr>\n",
       "    <tr>\n",
       "      <th>1</th>\n",
       "      <td>CBOE</td>\n",
       "      <td>416904</td>\n",
       "      <td>SPXW</td>\n",
       "      <td>100</td>\n",
       "      <td>[20221111, 20221114, 20221115, 20221116, 20221...</td>\n",
       "      <td>[100.0, 200.0, 300.0, 400.0, 500.0, 600.0, 700...</td>\n",
       "    </tr>\n",
       "    <tr>\n",
       "      <th>2</th>\n",
       "      <td>SMART</td>\n",
       "      <td>416904</td>\n",
       "      <td>SPXW</td>\n",
       "      <td>100</td>\n",
       "      <td>[20221111, 20221114, 20221115, 20221116, 20221...</td>\n",
       "      <td>[100.0, 200.0, 300.0, 400.0, 500.0, 600.0, 700...</td>\n",
       "    </tr>\n",
       "    <tr>\n",
       "      <th>3</th>\n",
       "      <td>CBOE</td>\n",
       "      <td>416904</td>\n",
       "      <td>SPX</td>\n",
       "      <td>100</td>\n",
       "      <td>[20221117, 20221215, 20230119, 20230216, 20230...</td>\n",
       "      <td>[100.0, 200.0, 300.0, 400.0, 500.0, 600.0, 700...</td>\n",
       "    </tr>\n",
       "  </tbody>\n",
       "</table>\n",
       "</div>"
      ],
      "text/plain": [
       "  exchange underlyingConId tradingClass multiplier  \\\n",
       "0    SMART          416904          SPX        100   \n",
       "1     CBOE          416904         SPXW        100   \n",
       "2    SMART          416904         SPXW        100   \n",
       "3     CBOE          416904          SPX        100   \n",
       "\n",
       "                                         expirations  \\\n",
       "0  [20221117, 20221215, 20230119, 20230216, 20230...   \n",
       "1  [20221111, 20221114, 20221115, 20221116, 20221...   \n",
       "2  [20221111, 20221114, 20221115, 20221116, 20221...   \n",
       "3  [20221117, 20221215, 20230119, 20230216, 20230...   \n",
       "\n",
       "                                             strikes  \n",
       "0  [100.0, 200.0, 300.0, 400.0, 500.0, 600.0, 700...  \n",
       "1  [100.0, 200.0, 300.0, 400.0, 500.0, 600.0, 700...  \n",
       "2  [100.0, 200.0, 300.0, 400.0, 500.0, 600.0, 700...  \n",
       "3  [100.0, 200.0, 300.0, 400.0, 500.0, 600.0, 700...  "
      ]
     },
     "execution_count": 252,
     "metadata": {},
     "output_type": "execute_result"
    }
   ],
   "source": [
    "chains = ib.reqSecDefOptParams(spx.symbol, '', spx.secType, spx.conId)\n",
    "\n",
    "util.df(chains)"
   ]
  },
  {
   "cell_type": "markdown",
   "metadata": {},
   "source": [
    "These are four option chains that differ in ``exchange`` and ``tradingClass``. The latter is 'SPX' for the monthly and  'SPXW' for the weekly options. Note that the weekly expiries are disjoint from the monthly ones, so when interested in the weekly options the monthly options can be added as well.\n",
    "\n",
    "In this case we're only interested in the monthly options trading on SMART:"
   ]
  },
  {
   "cell_type": "code",
   "execution_count": 253,
   "metadata": {},
   "outputs": [
    {
     "ename": "StopIteration",
     "evalue": "",
     "output_type": "error",
     "traceback": [
      "\u001b[1;31m---------------------------------------------------------------------------\u001b[0m",
      "\u001b[1;31mStopIteration\u001b[0m                             Traceback (most recent call last)",
      "Cell \u001b[1;32mIn [253], line 1\u001b[0m\n\u001b[1;32m----> 1\u001b[0m chain \u001b[38;5;241m=\u001b[39m \u001b[38;5;28mnext\u001b[39m(c \u001b[38;5;28;01mfor\u001b[39;00m c \u001b[38;5;129;01min\u001b[39;00m chains \u001b[38;5;28;01mif\u001b[39;00m c\u001b[38;5;241m.\u001b[39mtradingClass \u001b[38;5;241m==\u001b[39m \u001b[38;5;124m'\u001b[39m\u001b[38;5;124mspx\u001b[39m\u001b[38;5;124m'\u001b[39m \u001b[38;5;129;01mand\u001b[39;00m c\u001b[38;5;241m.\u001b[39mexchange \u001b[38;5;241m==\u001b[39m \u001b[38;5;124m'\u001b[39m\u001b[38;5;124mSMART\u001b[39m\u001b[38;5;124m'\u001b[39m)\n\u001b[0;32m      2\u001b[0m chain\n",
      "\u001b[1;31mStopIteration\u001b[0m: "
     ]
    }
   ],
   "source": [
    "chain = next(c for c in chains if c.tradingClass == 'SPX' and c.exchange == 'SMART')\n",
    "chain"
   ]
  },
  {
   "cell_type": "markdown",
   "metadata": {},
   "source": [
    "What we have here is the full matrix of expirations x strikes. From this we can build all the option contracts that meet our conditions:"
   ]
  },
  {
   "cell_type": "code",
   "execution_count": null,
   "metadata": {},
   "outputs": [
    {
     "name": "stdout",
     "output_type": "stream",
     "text": [
      "[380.0, 385.0, 390.0, 395.0, 400.0, 405.0, 410.0, 415.0] ['20221111', '20221114', '20221116']\n"
     ]
    },
    {
     "data": {
      "text/plain": [
       "48"
      ]
     },
     "execution_count": 218,
     "metadata": {},
     "output_type": "execute_result"
    }
   ],
   "source": [
    "strikes = [strike for strike in chain.strikes\n",
    "        if strike % 5 == 0\n",
    "        and spxValue - 20 < strike < spxValue + 20]\n",
    "expirations = sorted(exp for exp in chain.expirations)[:3]\n",
    "rights = ['P', 'C']\n",
    "print(strikes,expirations)\n",
    "contracts = [Option('spx', expiration, strike, right, 'SMART', tradingClass='spx')\n",
    "        for right in rights\n",
    "        for expiration in expirations\n",
    "        for strike in strikes]\n",
    "\n",
    "contracts = ib.qualifyContracts(*contracts)\n",
    "len(contracts)"
   ]
  },
  {
   "cell_type": "code",
   "execution_count": null,
   "metadata": {},
   "outputs": [
    {
     "data": {
      "text/plain": [
       "Option(conId=588757101, symbol='SPY', lastTradeDateOrContractMonth='20221111', strike=380.0, right='P', multiplier='100', exchange='SMART', currency='USD', localSymbol='SPY   221111P00380000', tradingClass='SPY')"
      ]
     },
     "execution_count": 219,
     "metadata": {},
     "output_type": "execute_result"
    }
   ],
   "source": [
    "contracts[0]"
   ]
  },
  {
   "cell_type": "markdown",
   "metadata": {},
   "source": [
    "Now to get the market data for all options in one go:"
   ]
  },
  {
   "cell_type": "code",
   "execution_count": null,
   "metadata": {},
   "outputs": [
    {
     "data": {
      "text/plain": [
       "Ticker(contract=Option(conId=588757101, symbol='SPY', lastTradeDateOrContractMonth='20221111', strike=380.0, right='P', multiplier='100', exchange='SMART', currency='USD', localSymbol='SPY   221111P00380000', tradingClass='SPY'), time=datetime.datetime(2022, 11, 11, 9, 16, 16, 2715, tzinfo=datetime.timezone.utc), marketDataType=2, minTick=0.01, bid=0.08, bidSize=13528.0, ask=0.09, askSize=4814.0, prevBid=-1.0, prevBidSize=0.0, prevAsk=-1.0, prevAskSize=0.0, volume=0.0, close=0.09, halted=0.0, modelGreeks=OptionComputation(tickAttrib=0, impliedVol=0.294962624416045, delta=-0.00023716141785525075, optPrice=0.00026096300730892843, pvDividend=0.0, gamma=0.00020534685159968419, vega=0.00017596813503638938, theta=-0.00026096300730892843, undPrice=394.55), bboExchange='c70003', snapshotPermissions=3)"
      ]
     },
     "execution_count": 220,
     "metadata": {},
     "output_type": "execute_result"
    }
   ],
   "source": [
    "tickers = ib.reqTickers(*contracts)\n",
    "\n",
    "tickers[0]\n"
   ]
  },
  {
   "cell_type": "code",
   "execution_count": null,
   "metadata": {},
   "outputs": [],
   "source": [
    "import numpy as np\n",
    "def closest_value(input_list, input_value):\n",
    "       return min(input_list, key=lambda x:abs(x-input_value))"
   ]
  },
  {
   "cell_type": "code",
   "execution_count": null,
   "metadata": {},
   "outputs": [
    {
     "name": "stdout",
     "output_type": "stream",
     "text": [
      "[-0.00023716141785525075, -0.004107927363028777, -0.08978048573563203, -0.551687897552121, -0.9687895934918702, -0.999999999999999, -0.999999999999993, -0.999999999999999, -0.04700325737266877, -0.12217736761497541, -0.27495405073722395, -0.513886037138811, -0.7707983605377371, -0.9414711357605545, -0.9988403841817388, -0.9999999999999705, -0.10349234944463265, -0.19579107889886793, -0.33209282843839844, -0.504302408453249, -0.6845717706825616, -0.8390843377158149, -0.9375997319791867, -0.9851132029396067, 0.9997629464512606, 0.9958940562220856, 0.910282783500496, 0.44894552571780283, 0.034171251934880784, 0.00013055466608235272, 4.808832995146656e-07, 1.5072871388190307e-08, 0.9530668270789716, 0.8780512586853436, 0.7258042633232644, 0.4880683133193608, 0.2338114422519226, 0.06795430539497824, 0.014492885091928169, 0.0034560495662559467, 0.8967249018486602, 0.8047134527537193, 0.6690292512924798, 0.4978161187591509, 0.31922378605752544, 0.16744281829804156, 0.07237529842157851, 0.02823120095976756]\n",
      "closest 0.07237529842157851\n"
     ]
    }
   ],
   "source": [
    "d=[tick.modelGreeks.delta for tick in tickers]\n",
    "print(d)\n",
    "dlta=closest_value(d,0.1)\n",
    "print(\"closest\",dlta)\n",
    "\n"
   ]
  },
  {
   "cell_type": "markdown",
   "metadata": {},
   "source": [
    "The option greeks are available from the ``modelGreeks`` attribute, and if there is a bid, ask resp. last price available also from ``bidGreeks``, ``askGreeks`` and ``lastGreeks``. For streaming ticks the greek values will be kept up to date to the current market situation."
   ]
  },
  {
   "cell_type": "code",
   "execution_count": null,
   "metadata": {},
   "outputs": [
    {
     "name": "stderr",
     "output_type": "stream",
     "text": [
      "Error 1100, reqId -1: Connectivity between IB and TWS has been lost.\n",
      "Error 1100, reqId -1: Connectivity between IB and TWS has been lost.\n",
      "Error 1100, reqId -1: Connectivity between IB and TWS has been lost.\n",
      "Error 1100, reqId -1: Connectivity between IB and TWS has been lost.\n",
      "Error 1100, reqId -1: Connectivity between IB and TWS has been lost.\n",
      "Error 1100, reqId -1: Connectivity between IB and TWS has been lost.\n",
      "Error 1100, reqId -1: Connectivity between IB and TWS has been lost.\n",
      "Error 1100, reqId -1: Connectivity between IB and TWS has been lost.\n",
      "Error 1100, reqId -1: Connectivity between IB and TWS has been lost.\n",
      "Error 1102, reqId -1: Connectivity between IB and TWS has been restored - data maintained. All data farms are connected: eufarmnj; cashfarm; usfuture; usfarm.nj; eufarm; usfarm; euhmds; hkhmds; cashhmds; fundfarm; ushmds; secdefnj.\n",
      "Error 1102, reqId -1: Connectivity between IB and TWS has been restored - data maintained. All data farms are connected: eufarmnj; cashfarm; usfuture; usfarm.nj; eufarm; usfarm; euhmds; hkhmds; cashhmds; fundfarm; ushmds; secdefnj.\n",
      "Error 1102, reqId -1: Connectivity between IB and TWS has been restored - data maintained. All data farms are connected: eufarmnj; cashfarm; usfuture; usfarm.nj; eufarm; usfarm; euhmds; hkhmds; cashhmds; fundfarm; ushmds; secdefnj.\n",
      "Error 1102, reqId -1: Connectivity between IB and TWS has been restored - data maintained. All data farms are connected: eufarmnj; cashfarm; usfuture; usfarm.nj; eufarm; usfarm; euhmds; hkhmds; cashhmds; fundfarm; ushmds; secdefnj.\n",
      "Error 1102, reqId -1: Connectivity between IB and TWS has been restored - data maintained. All data farms are connected: eufarmnj; cashfarm; usfuture; usfarm.nj; eufarm; usfarm; euhmds; hkhmds; cashhmds; fundfarm; ushmds; secdefnj.\n",
      "Error 1102, reqId -1: Connectivity between IB and TWS has been restored - data maintained. All data farms are connected: eufarmnj; cashfarm; usfuture; usfarm.nj; eufarm; usfarm; euhmds; hkhmds; cashhmds; fundfarm; ushmds; secdefnj.\n",
      "Error 1102, reqId -1: Connectivity between IB and TWS has been restored - data maintained. All data farms are connected: eufarmnj; cashfarm; usfuture; usfarm.nj; eufarm; usfarm; euhmds; hkhmds; cashhmds; fundfarm; ushmds; secdefnj.\n",
      "Error 1102, reqId -1: Connectivity between IB and TWS has been restored - data maintained. All data farms are connected: eufarmnj; cashfarm; usfuture; usfarm.nj; eufarm; usfarm; euhmds; hkhmds; cashhmds; fundfarm; ushmds; secdefnj.\n",
      "Error 1102, reqId -1: Connectivity between IB and TWS has been restored - data maintained. All data farms are connected: eufarmnj; cashfarm; usfuture; usfarm.nj; eufarm; usfarm; euhmds; hkhmds; cashhmds; fundfarm; ushmds; secdefnj.\n",
      "Peer closed connection.\n",
      "Peer closed connection.\n",
      "Peer closed connection.\n",
      "Peer closed connection.\n",
      "Peer closed connection.\n",
      "Peer closed connection.\n",
      "Peer closed connection.\n",
      "Peer closed connection.\n",
      "Peer closed connection.\n"
     ]
    }
   ],
   "source": [
    "ib.disconnect()"
   ]
  }
 ],
 "metadata": {
  "kernelspec": {
   "display_name": "Python 3.10.7 64-bit",
   "language": "python",
   "name": "python3"
  },
  "language_info": {
   "codemirror_mode": {
    "name": "ipython",
    "version": 3
   },
   "file_extension": ".py",
   "mimetype": "text/x-python",
   "name": "python",
   "nbconvert_exporter": "python",
   "pygments_lexer": "ipython3",
   "version": "3.10.7"
  },
  "vscode": {
   "interpreter": {
    "hash": "26de051ba29f2982a8de78e945f0abaf191376122a1563185a90213a26c5da77"
   }
  }
 },
 "nbformat": 4,
 "nbformat_minor": 4
}
