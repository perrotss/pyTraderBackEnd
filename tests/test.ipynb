{
 "cells": [
  {
   "cell_type": "markdown",
   "metadata": {},
   "source": [
    "Option chains\n",
    "======="
   ]
  },
  {
   "cell_type": "code",
   "execution_count": 27,
   "metadata": {
    "scrolled": true
   },
   "outputs": [
    {
     "data": {
      "text/plain": [
       "<IB connected to 127.0.0.1:7496 clientId=3611>"
      ]
     },
     "execution_count": 27,
     "metadata": {},
     "output_type": "execute_result"
    }
   ],
   "source": [
    "from ib_insync import *\n",
    "util.startLoop()\n",
    "import random\n",
    "ib = IB()\n",
    "if(ib.isConnected()):\n",
    "    ib.disconnect()\n",
    "random_id = random.randint(0, 9999)\n",
    "ib.connect('127.0.0.1', 7496, clientId=random_id)"
   ]
  },
  {
   "cell_type": "markdown",
   "metadata": {},
   "source": [
    "Suppose we want to find the options on the SPX, with the following conditions:\n",
    "\n",
    "* Use the next three monthly expiries;\n",
    "* Use strike prices within +- 20 dollar of the current SPX value;\n",
    "* Use strike prices that are a multitude of 5 dollar."
   ]
  },
  {
   "cell_type": "markdown",
   "metadata": {},
   "source": [
    "To get the current market value, first create a contract for the underlyer (the S&P 500 index):"
   ]
  },
  {
   "cell_type": "code",
   "execution_count": 28,
   "metadata": {},
   "outputs": [
    {
     "data": {
      "text/plain": [
       "[Index(conId=416904, symbol='SPX', exchange='CBOE', currency='USD', localSymbol='SPX')]"
      ]
     },
     "execution_count": 28,
     "metadata": {},
     "output_type": "execute_result"
    }
   ],
   "source": [
    "spx = Index('SPX', 'CBOE')\n",
    "ib.qualifyContracts(spx)"
   ]
  },
  {
   "cell_type": "markdown",
   "metadata": {},
   "source": [
    "To avoid issues with market data permissions, we'll use delayed data:"
   ]
  },
  {
   "cell_type": "code",
   "execution_count": 29,
   "metadata": {},
   "outputs": [],
   "source": [
    "ib.reqMarketDataType(4)"
   ]
  },
  {
   "cell_type": "markdown",
   "metadata": {},
   "source": [
    "Then get the ticker. Requesting a ticker can take up to 11 seconds."
   ]
  },
  {
   "cell_type": "code",
   "execution_count": 30,
   "metadata": {},
   "outputs": [
    {
     "data": {
      "text/plain": [
       "Ticker(contract=Index(conId=416904, symbol='SPX', exchange='CBOE', currency='USD', localSymbol='SPX'), time=datetime.datetime(2022, 11, 14, 18, 7, 30, 79705, tzinfo=datetime.timezone.utc), marketDataType=3, minTick=0.01, bid=-1.0, bidSize=0.0, ask=-1.0, askSize=0.0, last=3997.6, lastSize=1.0, high=3999.31, low=3966.39, close=3992.93)"
      ]
     },
     "execution_count": 30,
     "metadata": {},
     "output_type": "execute_result"
    }
   ],
   "source": [
    "[ticker] = ib.reqTickers(spx)\n",
    "ticker"
   ]
  },
  {
   "cell_type": "markdown",
   "metadata": {},
   "source": [
    "Take the current market value of the ticker:"
   ]
  },
  {
   "cell_type": "code",
   "execution_count": 31,
   "metadata": {},
   "outputs": [
    {
     "data": {
      "text/plain": [
       "3997.6"
      ]
     },
     "execution_count": 31,
     "metadata": {},
     "output_type": "execute_result"
    }
   ],
   "source": [
    "spxValue = ticker.marketPrice()\n",
    "if(str(spxValue)==\"nan\"):\n",
    "    spxValue=3956\n",
    "elif((spxValue)==0):\n",
    "    spxValue=ticker.close\n",
    "spxValue"
   ]
  },
  {
   "cell_type": "markdown",
   "metadata": {},
   "source": [
    "The following request fetches a list of option chains:"
   ]
  },
  {
   "cell_type": "code",
   "execution_count": 32,
   "metadata": {},
   "outputs": [
    {
     "data": {
      "text/html": [
       "<div>\n",
       "<style scoped>\n",
       "    .dataframe tbody tr th:only-of-type {\n",
       "        vertical-align: middle;\n",
       "    }\n",
       "\n",
       "    .dataframe tbody tr th {\n",
       "        vertical-align: top;\n",
       "    }\n",
       "\n",
       "    .dataframe thead th {\n",
       "        text-align: right;\n",
       "    }\n",
       "</style>\n",
       "<table border=\"1\" class=\"dataframe\">\n",
       "  <thead>\n",
       "    <tr style=\"text-align: right;\">\n",
       "      <th></th>\n",
       "      <th>exchange</th>\n",
       "      <th>underlyingConId</th>\n",
       "      <th>tradingClass</th>\n",
       "      <th>multiplier</th>\n",
       "      <th>expirations</th>\n",
       "      <th>strikes</th>\n",
       "    </tr>\n",
       "  </thead>\n",
       "  <tbody>\n",
       "    <tr>\n",
       "      <th>0</th>\n",
       "      <td>SMART</td>\n",
       "      <td>416904</td>\n",
       "      <td>SPX</td>\n",
       "      <td>100</td>\n",
       "      <td>[20221117, 20221215, 20230119, 20230216, 20230...</td>\n",
       "      <td>[100.0, 200.0, 300.0, 400.0, 500.0, 600.0, 700...</td>\n",
       "    </tr>\n",
       "    <tr>\n",
       "      <th>1</th>\n",
       "      <td>CBOE</td>\n",
       "      <td>416904</td>\n",
       "      <td>SPXW</td>\n",
       "      <td>100</td>\n",
       "      <td>[20221114, 20221115, 20221116, 20221117, 20221...</td>\n",
       "      <td>[100.0, 200.0, 300.0, 400.0, 500.0, 600.0, 700...</td>\n",
       "    </tr>\n",
       "    <tr>\n",
       "      <th>2</th>\n",
       "      <td>SMART</td>\n",
       "      <td>416904</td>\n",
       "      <td>SPXW</td>\n",
       "      <td>100</td>\n",
       "      <td>[20221114, 20221115, 20221116, 20221117, 20221...</td>\n",
       "      <td>[100.0, 200.0, 300.0, 400.0, 500.0, 600.0, 700...</td>\n",
       "    </tr>\n",
       "    <tr>\n",
       "      <th>3</th>\n",
       "      <td>CBOE</td>\n",
       "      <td>416904</td>\n",
       "      <td>SPX</td>\n",
       "      <td>100</td>\n",
       "      <td>[20221117, 20221215, 20230119, 20230216, 20230...</td>\n",
       "      <td>[100.0, 200.0, 300.0, 400.0, 500.0, 600.0, 700...</td>\n",
       "    </tr>\n",
       "  </tbody>\n",
       "</table>\n",
       "</div>"
      ],
      "text/plain": [
       "  exchange underlyingConId tradingClass multiplier  \\\n",
       "0    SMART          416904          SPX        100   \n",
       "1     CBOE          416904         SPXW        100   \n",
       "2    SMART          416904         SPXW        100   \n",
       "3     CBOE          416904          SPX        100   \n",
       "\n",
       "                                         expirations  \\\n",
       "0  [20221117, 20221215, 20230119, 20230216, 20230...   \n",
       "1  [20221114, 20221115, 20221116, 20221117, 20221...   \n",
       "2  [20221114, 20221115, 20221116, 20221117, 20221...   \n",
       "3  [20221117, 20221215, 20230119, 20230216, 20230...   \n",
       "\n",
       "                                             strikes  \n",
       "0  [100.0, 200.0, 300.0, 400.0, 500.0, 600.0, 700...  \n",
       "1  [100.0, 200.0, 300.0, 400.0, 500.0, 600.0, 700...  \n",
       "2  [100.0, 200.0, 300.0, 400.0, 500.0, 600.0, 700...  \n",
       "3  [100.0, 200.0, 300.0, 400.0, 500.0, 600.0, 700...  "
      ]
     },
     "execution_count": 32,
     "metadata": {},
     "output_type": "execute_result"
    }
   ],
   "source": [
    "chains = ib.reqSecDefOptParams(spx.symbol, '', spx.secType, spx.conId)\n",
    "\n",
    "util.df(chains)"
   ]
  },
  {
   "cell_type": "markdown",
   "metadata": {},
   "source": [
    "These are four option chains that differ in ``exchange`` and ``tradingClass``. The latter is 'SPX' for the monthly and  'SPXW' for the weekly options. Note that the weekly expiries are disjoint from the monthly ones, so when interested in the weekly options the monthly options can be added as well.\n",
    "\n",
    "In this case we're only interested in the monthly options trading on SMART:"
   ]
  },
  {
   "cell_type": "code",
   "execution_count": 33,
   "metadata": {},
   "outputs": [
    {
     "data": {
      "text/plain": [
       "OptionChain(exchange='SMART', underlyingConId='416904', tradingClass='SPX', multiplier='100', expirations=['20221117', '20221215', '20230119', '20230216', '20230316', '20230420', '20230518', '20230615', '20230720', '20230817', '20230914', '20231019', '20231116', '20231214', '20240118', '20240620', '20241219', '20251218', '20261217', '20271216'], strikes=[100.0, 200.0, 300.0, 400.0, 500.0, 600.0, 700.0, 800.0, 900.0, 1000.0, 1100.0, 1150.0, 1200.0, 1250.0, 1300.0, 1350.0, 1375.0, 1400.0, 1450.0, 1475.0, 1500.0, 1525.0, 1550.0, 1575.0, 1600.0, 1625.0, 1650.0, 1675.0, 1700.0, 1725.0, 1750.0, 1775.0, 1800.0, 1825.0, 1850.0, 1875.0, 1900.0, 1925.0, 1950.0, 1975.0, 2000.0, 2025.0, 2050.0, 2075.0, 2100.0, 2125.0, 2150.0, 2175.0, 2200.0, 2225.0, 2250.0, 2275.0, 2300.0, 2325.0, 2350.0, 2375.0, 2400.0, 2425.0, 2450.0, 2475.0, 2500.0, 2525.0, 2550.0, 2575.0, 2600.0, 2625.0, 2650.0, 2675.0, 2700.0, 2725.0, 2750.0, 2775.0, 2800.0, 2825.0, 2850.0, 2870.0, 2875.0, 2880.0, 2890.0, 2900.0, 2910.0, 2920.0, 2925.0, 2930.0, 2940.0, 2950.0, 2960.0, 2970.0, 2975.0, 2980.0, 2990.0, 3000.0, 3010.0, 3020.0, 3025.0, 3030.0, 3040.0, 3050.0, 3060.0, 3070.0, 3075.0, 3080.0, 3090.0, 3100.0, 3110.0, 3120.0, 3125.0, 3130.0, 3140.0, 3150.0, 3155.0, 3160.0, 3165.0, 3170.0, 3175.0, 3180.0, 3185.0, 3190.0, 3195.0, 3200.0, 3205.0, 3210.0, 3215.0, 3220.0, 3225.0, 3230.0, 3235.0, 3240.0, 3245.0, 3250.0, 3255.0, 3260.0, 3265.0, 3270.0, 3275.0, 3280.0, 3285.0, 3290.0, 3295.0, 3300.0, 3305.0, 3310.0, 3315.0, 3320.0, 3325.0, 3330.0, 3335.0, 3340.0, 3345.0, 3350.0, 3355.0, 3360.0, 3365.0, 3370.0, 3375.0, 3380.0, 3385.0, 3390.0, 3395.0, 3400.0, 3405.0, 3410.0, 3415.0, 3420.0, 3425.0, 3430.0, 3435.0, 3440.0, 3445.0, 3450.0, 3455.0, 3460.0, 3465.0, 3470.0, 3475.0, 3480.0, 3485.0, 3490.0, 3495.0, 3500.0, 3505.0, 3510.0, 3515.0, 3520.0, 3525.0, 3530.0, 3535.0, 3540.0, 3545.0, 3550.0, 3555.0, 3560.0, 3565.0, 3570.0, 3575.0, 3580.0, 3585.0, 3590.0, 3595.0, 3600.0, 3605.0, 3610.0, 3615.0, 3620.0, 3625.0, 3630.0, 3635.0, 3640.0, 3645.0, 3650.0, 3655.0, 3660.0, 3665.0, 3670.0, 3675.0, 3680.0, 3685.0, 3690.0, 3695.0, 3700.0, 3705.0, 3710.0, 3715.0, 3720.0, 3725.0, 3730.0, 3735.0, 3740.0, 3745.0, 3750.0, 3755.0, 3760.0, 3765.0, 3770.0, 3775.0, 3780.0, 3785.0, 3790.0, 3795.0, 3800.0, 3805.0, 3810.0, 3815.0, 3820.0, 3825.0, 3830.0, 3835.0, 3840.0, 3845.0, 3850.0, 3855.0, 3860.0, 3865.0, 3870.0, 3875.0, 3880.0, 3885.0, 3890.0, 3895.0, 3900.0, 3905.0, 3910.0, 3915.0, 3920.0, 3925.0, 3930.0, 3935.0, 3940.0, 3945.0, 3950.0, 3955.0, 3960.0, 3965.0, 3970.0, 3975.0, 3980.0, 3985.0, 3990.0, 3995.0, 4000.0, 4005.0, 4010.0, 4015.0, 4020.0, 4025.0, 4030.0, 4035.0, 4040.0, 4045.0, 4050.0, 4055.0, 4060.0, 4065.0, 4070.0, 4075.0, 4080.0, 4085.0, 4090.0, 4095.0, 4100.0, 4105.0, 4110.0, 4115.0, 4120.0, 4125.0, 4130.0, 4135.0, 4140.0, 4145.0, 4150.0, 4155.0, 4160.0, 4165.0, 4170.0, 4175.0, 4180.0, 4185.0, 4190.0, 4195.0, 4200.0, 4205.0, 4210.0, 4215.0, 4220.0, 4225.0, 4230.0, 4240.0, 4250.0, 4260.0, 4270.0, 4275.0, 4280.0, 4290.0, 4300.0, 4310.0, 4320.0, 4325.0, 4330.0, 4340.0, 4350.0, 4360.0, 4370.0, 4375.0, 4380.0, 4390.0, 4400.0, 4410.0, 4420.0, 4425.0, 4430.0, 4440.0, 4450.0, 4460.0, 4470.0, 4475.0, 4480.0, 4490.0, 4500.0, 4510.0, 4520.0, 4525.0, 4530.0, 4540.0, 4550.0, 4560.0, 4570.0, 4575.0, 4580.0, 4590.0, 4600.0, 4610.0, 4620.0, 4625.0, 4650.0, 4675.0, 4700.0, 4725.0, 4750.0, 4775.0, 4800.0, 4825.0, 4850.0, 4875.0, 4900.0, 4925.0, 4950.0, 4975.0, 5000.0, 5025.0, 5050.0, 5075.0, 5100.0, 5125.0, 5150.0, 5175.0, 5200.0, 5225.0, 5250.0, 5275.0, 5300.0, 5325.0, 5350.0, 5375.0, 5400.0, 5425.0, 5450.0, 5475.0, 5500.0, 5550.0, 5600.0, 5650.0, 5700.0, 5750.0, 5800.0, 5900.0, 6000.0, 6100.0, 6200.0, 6300.0, 6400.0, 6500.0, 6600.0, 6700.0, 6800.0, 6900.0, 7000.0, 7100.0, 7200.0, 7300.0, 7400.0, 7600.0, 7800.0, 8000.0, 8200.0, 8400.0, 8600.0, 8800.0, 9000.0, 9200.0, 9600.0, 10000.0, 12000.0])"
      ]
     },
     "execution_count": 33,
     "metadata": {},
     "output_type": "execute_result"
    }
   ],
   "source": [
    "chain = next(c for c in chains if c.tradingClass == 'SPX' and c.exchange == 'SMART')\n",
    "chain"
   ]
  },
  {
   "cell_type": "markdown",
   "metadata": {},
   "source": [
    "What we have here is the full matrix of expirations x strikes. From this we can build all the option contracts that meet our conditions:"
   ]
  },
  {
   "cell_type": "code",
   "execution_count": 34,
   "metadata": {},
   "outputs": [
    {
     "name": "stdout",
     "output_type": "stream",
     "text": [
      "3980.0 4010.0\n"
     ]
    },
    {
     "data": {
      "text/plain": [
       "32"
      ]
     },
     "execution_count": 34,
     "metadata": {},
     "output_type": "execute_result"
    }
   ],
   "source": [
    "strikes = [strike for strike in chain.strikes\n",
    "        if strike % 10 == 0\n",
    "        and spxValue - 20 < strike < spxValue + 20\n",
    "        ]\n",
    "\n",
    "expirations = sorted(exp for exp in chain.expirations)[0]\n",
    "rights = ['C']\n",
    "\n",
    "contracts = [\n",
    "        Option('SPX', expiration, strike, right, 'SMART', tradingClass='SPX')\n",
    "        for right in rights\n",
    "        for expiration in expirations\n",
    "        for strike in strikes\n",
    "        ]\n",
    "print(strikes[0],strikes[-1])\n",
    "len(contracts)"
   ]
  },
  {
   "cell_type": "code",
   "execution_count": 35,
   "metadata": {},
   "outputs": [
    {
     "name": "stderr",
     "output_type": "stream",
     "text": [
      "Ambiguous contract: Option(symbol='SPX', lastTradeDateOrContractMonth='2', strike=3980.0, right='C', exchange='SMART', tradingClass='SPX'), possibles are [Contract(secType='OPT', conId=564055201, symbol='SPX', lastTradeDateOrContractMonth='20221117', strike=3980.0, right='C', multiplier='100', exchange='SMART', currency='USD', localSymbol='SPX   221118C03980000', tradingClass='SPX'), Contract(secType='OPT', conId=569514412, symbol='SPX', lastTradeDateOrContractMonth='20221215', strike=3980.0, right='C', multiplier='100', exchange='SMART', currency='USD', localSymbol='SPX   221216C03980000', tradingClass='SPX'), Contract(secType='OPT', conId=575215002, symbol='SPX', lastTradeDateOrContractMonth='20230119', strike=3980.0, right='C', multiplier='100', exchange='SMART', currency='USD', localSymbol='SPX   230120C03980000', tradingClass='SPX'), Contract(secType='OPT', conId=581280618, symbol='SPX', lastTradeDateOrContractMonth='20230216', strike=3980.0, right='C', multiplier='100', exchange='SMART', currency='USD', localSymbol='SPX   230217C03980000', tradingClass='SPX'), Contract(secType='OPT', conId=586551069, symbol='SPX', lastTradeDateOrContractMonth='20230316', strike=3980.0, right='C', multiplier='100', exchange='SMART', currency='USD', localSymbol='SPX   230317C03980000', tradingClass='SPX'), Contract(secType='OPT', conId=593339451, symbol='SPX', lastTradeDateOrContractMonth='20230420', strike=3980.0, right='C', multiplier='100', exchange='SMART', currency='USD', localSymbol='SPX   230421C03980000', tradingClass='SPX')]\n",
      "Ambiguous contract: Option(symbol='SPX', lastTradeDateOrContractMonth='2', strike=3990.0, right='C', exchange='SMART', tradingClass='SPX'), possibles are [Contract(secType='OPT', conId=564055204, symbol='SPX', lastTradeDateOrContractMonth='20221117', strike=3990.0, right='C', multiplier='100', exchange='SMART', currency='USD', localSymbol='SPX   221118C03990000', tradingClass='SPX'), Contract(secType='OPT', conId=569514423, symbol='SPX', lastTradeDateOrContractMonth='20221215', strike=3990.0, right='C', multiplier='100', exchange='SMART', currency='USD', localSymbol='SPX   221216C03990000', tradingClass='SPX'), Contract(secType='OPT', conId=575215026, symbol='SPX', lastTradeDateOrContractMonth='20230119', strike=3990.0, right='C', multiplier='100', exchange='SMART', currency='USD', localSymbol='SPX   230120C03990000', tradingClass='SPX'), Contract(secType='OPT', conId=581280623, symbol='SPX', lastTradeDateOrContractMonth='20230216', strike=3990.0, right='C', multiplier='100', exchange='SMART', currency='USD', localSymbol='SPX   230217C03990000', tradingClass='SPX'), Contract(secType='OPT', conId=586551073, symbol='SPX', lastTradeDateOrContractMonth='20230316', strike=3990.0, right='C', multiplier='100', exchange='SMART', currency='USD', localSymbol='SPX   230317C03990000', tradingClass='SPX'), Contract(secType='OPT', conId=593339462, symbol='SPX', lastTradeDateOrContractMonth='20230420', strike=3990.0, right='C', multiplier='100', exchange='SMART', currency='USD', localSymbol='SPX   230421C03990000', tradingClass='SPX')]\n",
      "Ambiguous contract: Option(symbol='SPX', lastTradeDateOrContractMonth='2', strike=4000.0, right='C', exchange='SMART', tradingClass='SPX'), possibles are [Contract(secType='OPT', conId=397085342, symbol='SPX', lastTradeDateOrContractMonth='20221215', strike=4000.0, right='C', multiplier='100', exchange='SMART', currency='USD', localSymbol='SPX   221216C04000000', tradingClass='SPX'), Contract(secType='OPT', conId=461246561, symbol='SPX', lastTradeDateOrContractMonth='20231214', strike=4000.0, right='C', multiplier='100', exchange='SMART', currency='USD', localSymbol='SPX   231215C04000000', tradingClass='SPX'), Contract(secType='OPT', conId=495791461, symbol='SPX', lastTradeDateOrContractMonth='20230119', strike=4000.0, right='C', multiplier='100', exchange='SMART', currency='USD', localSymbol='SPX   230120C04000000', tradingClass='SPX'), Contract(secType='OPT', conId=497877362, symbol='SPX', lastTradeDateOrContractMonth='20230615', strike=4000.0, right='C', multiplier='100', exchange='SMART', currency='USD', localSymbol='SPX   230616C04000000', tradingClass='SPX'), Contract(secType='OPT', conId=521197687, symbol='SPX', lastTradeDateOrContractMonth='20221117', strike=4000.0, right='C', multiplier='100', exchange='SMART', currency='USD', localSymbol='SPX   221118C04000000', tradingClass='SPX'), Contract(secType='OPT', conId=524129939, symbol='SPX', lastTradeDateOrContractMonth='20241219', strike=4000.0, right='C', multiplier='100', exchange='SMART', currency='USD', localSymbol='SPX   241220C04000000', tradingClass='SPX'), Contract(secType='OPT', conId=524130169, symbol='SPX', lastTradeDateOrContractMonth='20251218', strike=4000.0, right='C', multiplier='100', exchange='SMART', currency='USD', localSymbol='SPX   251219C04000000', tradingClass='SPX'), Contract(secType='OPT', conId=524130385, symbol='SPX', lastTradeDateOrContractMonth='20261217', strike=4000.0, right='C', multiplier='100', exchange='SMART', currency='USD', localSymbol='SPX   261218C04000000', tradingClass='SPX'), Contract(secType='OPT', conId=531885499, symbol='SPX', lastTradeDateOrContractMonth='20230316', strike=4000.0, right='C', multiplier='100', exchange='SMART', currency='USD', localSymbol='SPX   230317C04000000', tradingClass='SPX'), Contract(secType='OPT', conId=538203434, symbol='SPX', lastTradeDateOrContractMonth='20230216', strike=4000.0, right='C', multiplier='100', exchange='SMART', currency='USD', localSymbol='SPX   230217C04000000', tradingClass='SPX'), Contract(secType='OPT', conId=551439873, symbol='SPX', lastTradeDateOrContractMonth='20230420', strike=4000.0, right='C', multiplier='100', exchange='SMART', currency='USD', localSymbol='SPX   230421C04000000', tradingClass='SPX'), Contract(secType='OPT', conId=556806425, symbol='SPX', lastTradeDateOrContractMonth='20230518', strike=4000.0, right='C', multiplier='100', exchange='SMART', currency='USD', localSymbol='SPX   230519C04000000', tradingClass='SPX'), Contract(secType='OPT', conId=559949123, symbol='SPX', lastTradeDateOrContractMonth='20230914', strike=4000.0, right='C', multiplier='100', exchange='SMART', currency='USD', localSymbol='SPX   230915C04000000', tradingClass='SPX'), Contract(secType='OPT', conId=568264088, symbol='SPX', lastTradeDateOrContractMonth='20230720', strike=4000.0, right='C', multiplier='100', exchange='SMART', currency='USD', localSymbol='SPX   230721C04000000', tradingClass='SPX'), Contract(secType='OPT', conId=568267544, symbol='SPX', lastTradeDateOrContractMonth='20240620', strike=4000.0, right='C', multiplier='100', exchange='SMART', currency='USD', localSymbol='SPX   240621C04000000', tradingClass='SPX'), Contract(secType='OPT', conId=571084228, symbol='SPX', lastTradeDateOrContractMonth='20271216', strike=4000.0, right='C', multiplier='100', exchange='SMART', currency='USD', localSymbol='SPX   271217C04000000', tradingClass='SPX'), Contract(secType='OPT', conId=573986258, symbol='SPX', lastTradeDateOrContractMonth='20230817', strike=4000.0, right='C', multiplier='100', exchange='SMART', currency='USD', localSymbol='SPX   230818C04000000', tradingClass='SPX'), Contract(secType='OPT', conId=586002464, symbol='SPX', lastTradeDateOrContractMonth='20231019', strike=4000.0, right='C', multiplier='100', exchange='SMART', currency='USD', localSymbol='SPX   231020C04000000', tradingClass='SPX'), Contract(secType='OPT', conId=586551724, symbol='SPX', lastTradeDateOrContractMonth='20240118', strike=4000.0, right='C', multiplier='100', exchange='SMART', currency='USD', localSymbol='SPX   240119C04000000', tradingClass='SPX'), Contract(secType='OPT', conId=592945508, symbol='SPX', lastTradeDateOrContractMonth='20231116', strike=4000.0, right='C', multiplier='100', exchange='SMART', currency='USD', localSymbol='SPX   231117C04000000', tradingClass='SPX')]\n",
      "Ambiguous contract: Option(symbol='SPX', lastTradeDateOrContractMonth='2', strike=4010.0, right='C', exchange='SMART', tradingClass='SPX'), possibles are [Contract(secType='OPT', conId=564055211, symbol='SPX', lastTradeDateOrContractMonth='20221117', strike=4010.0, right='C', multiplier='100', exchange='SMART', currency='USD', localSymbol='SPX   221118C04010000', tradingClass='SPX'), Contract(secType='OPT', conId=569514429, symbol='SPX', lastTradeDateOrContractMonth='20221215', strike=4010.0, right='C', multiplier='100', exchange='SMART', currency='USD', localSymbol='SPX   221216C04010000', tradingClass='SPX'), Contract(secType='OPT', conId=575215037, symbol='SPX', lastTradeDateOrContractMonth='20230119', strike=4010.0, right='C', multiplier='100', exchange='SMART', currency='USD', localSymbol='SPX   230120C04010000', tradingClass='SPX'), Contract(secType='OPT', conId=581280641, symbol='SPX', lastTradeDateOrContractMonth='20230216', strike=4010.0, right='C', multiplier='100', exchange='SMART', currency='USD', localSymbol='SPX   230217C04010000', tradingClass='SPX'), Contract(secType='OPT', conId=586551076, symbol='SPX', lastTradeDateOrContractMonth='20230316', strike=4010.0, right='C', multiplier='100', exchange='SMART', currency='USD', localSymbol='SPX   230317C04010000', tradingClass='SPX'), Contract(secType='OPT', conId=593339474, symbol='SPX', lastTradeDateOrContractMonth='20230420', strike=4010.0, right='C', multiplier='100', exchange='SMART', currency='USD', localSymbol='SPX   230421C04010000', tradingClass='SPX')]\n",
      "Ambiguous contract: Option(symbol='SPX', lastTradeDateOrContractMonth='0', strike=3980.0, right='C', exchange='SMART', tradingClass='SPX'), possibles are [Contract(secType='OPT', conId=564055201, symbol='SPX', lastTradeDateOrContractMonth='20221117', strike=3980.0, right='C', multiplier='100', exchange='SMART', currency='USD', localSymbol='SPX   221118C03980000', tradingClass='SPX'), Contract(secType='OPT', conId=569514412, symbol='SPX', lastTradeDateOrContractMonth='20221215', strike=3980.0, right='C', multiplier='100', exchange='SMART', currency='USD', localSymbol='SPX   221216C03980000', tradingClass='SPX'), Contract(secType='OPT', conId=575215002, symbol='SPX', lastTradeDateOrContractMonth='20230119', strike=3980.0, right='C', multiplier='100', exchange='SMART', currency='USD', localSymbol='SPX   230120C03980000', tradingClass='SPX'), Contract(secType='OPT', conId=581280618, symbol='SPX', lastTradeDateOrContractMonth='20230216', strike=3980.0, right='C', multiplier='100', exchange='SMART', currency='USD', localSymbol='SPX   230217C03980000', tradingClass='SPX'), Contract(secType='OPT', conId=586551069, symbol='SPX', lastTradeDateOrContractMonth='20230316', strike=3980.0, right='C', multiplier='100', exchange='SMART', currency='USD', localSymbol='SPX   230317C03980000', tradingClass='SPX'), Contract(secType='OPT', conId=593339451, symbol='SPX', lastTradeDateOrContractMonth='20230420', strike=3980.0, right='C', multiplier='100', exchange='SMART', currency='USD', localSymbol='SPX   230421C03980000', tradingClass='SPX')]\n",
      "Ambiguous contract: Option(symbol='SPX', lastTradeDateOrContractMonth='0', strike=3990.0, right='C', exchange='SMART', tradingClass='SPX'), possibles are [Contract(secType='OPT', conId=564055204, symbol='SPX', lastTradeDateOrContractMonth='20221117', strike=3990.0, right='C', multiplier='100', exchange='SMART', currency='USD', localSymbol='SPX   221118C03990000', tradingClass='SPX'), Contract(secType='OPT', conId=569514423, symbol='SPX', lastTradeDateOrContractMonth='20221215', strike=3990.0, right='C', multiplier='100', exchange='SMART', currency='USD', localSymbol='SPX   221216C03990000', tradingClass='SPX'), Contract(secType='OPT', conId=575215026, symbol='SPX', lastTradeDateOrContractMonth='20230119', strike=3990.0, right='C', multiplier='100', exchange='SMART', currency='USD', localSymbol='SPX   230120C03990000', tradingClass='SPX'), Contract(secType='OPT', conId=581280623, symbol='SPX', lastTradeDateOrContractMonth='20230216', strike=3990.0, right='C', multiplier='100', exchange='SMART', currency='USD', localSymbol='SPX   230217C03990000', tradingClass='SPX'), Contract(secType='OPT', conId=586551073, symbol='SPX', lastTradeDateOrContractMonth='20230316', strike=3990.0, right='C', multiplier='100', exchange='SMART', currency='USD', localSymbol='SPX   230317C03990000', tradingClass='SPX'), Contract(secType='OPT', conId=593339462, symbol='SPX', lastTradeDateOrContractMonth='20230420', strike=3990.0, right='C', multiplier='100', exchange='SMART', currency='USD', localSymbol='SPX   230421C03990000', tradingClass='SPX')]\n",
      "Ambiguous contract: Option(symbol='SPX', lastTradeDateOrContractMonth='0', strike=4000.0, right='C', exchange='SMART', tradingClass='SPX'), possibles are [Contract(secType='OPT', conId=397085342, symbol='SPX', lastTradeDateOrContractMonth='20221215', strike=4000.0, right='C', multiplier='100', exchange='SMART', currency='USD', localSymbol='SPX   221216C04000000', tradingClass='SPX'), Contract(secType='OPT', conId=461246561, symbol='SPX', lastTradeDateOrContractMonth='20231214', strike=4000.0, right='C', multiplier='100', exchange='SMART', currency='USD', localSymbol='SPX   231215C04000000', tradingClass='SPX'), Contract(secType='OPT', conId=495791461, symbol='SPX', lastTradeDateOrContractMonth='20230119', strike=4000.0, right='C', multiplier='100', exchange='SMART', currency='USD', localSymbol='SPX   230120C04000000', tradingClass='SPX'), Contract(secType='OPT', conId=497877362, symbol='SPX', lastTradeDateOrContractMonth='20230615', strike=4000.0, right='C', multiplier='100', exchange='SMART', currency='USD', localSymbol='SPX   230616C04000000', tradingClass='SPX'), Contract(secType='OPT', conId=521197687, symbol='SPX', lastTradeDateOrContractMonth='20221117', strike=4000.0, right='C', multiplier='100', exchange='SMART', currency='USD', localSymbol='SPX   221118C04000000', tradingClass='SPX'), Contract(secType='OPT', conId=524129939, symbol='SPX', lastTradeDateOrContractMonth='20241219', strike=4000.0, right='C', multiplier='100', exchange='SMART', currency='USD', localSymbol='SPX   241220C04000000', tradingClass='SPX'), Contract(secType='OPT', conId=524130169, symbol='SPX', lastTradeDateOrContractMonth='20251218', strike=4000.0, right='C', multiplier='100', exchange='SMART', currency='USD', localSymbol='SPX   251219C04000000', tradingClass='SPX'), Contract(secType='OPT', conId=524130385, symbol='SPX', lastTradeDateOrContractMonth='20261217', strike=4000.0, right='C', multiplier='100', exchange='SMART', currency='USD', localSymbol='SPX   261218C04000000', tradingClass='SPX'), Contract(secType='OPT', conId=531885499, symbol='SPX', lastTradeDateOrContractMonth='20230316', strike=4000.0, right='C', multiplier='100', exchange='SMART', currency='USD', localSymbol='SPX   230317C04000000', tradingClass='SPX'), Contract(secType='OPT', conId=538203434, symbol='SPX', lastTradeDateOrContractMonth='20230216', strike=4000.0, right='C', multiplier='100', exchange='SMART', currency='USD', localSymbol='SPX   230217C04000000', tradingClass='SPX'), Contract(secType='OPT', conId=551439873, symbol='SPX', lastTradeDateOrContractMonth='20230420', strike=4000.0, right='C', multiplier='100', exchange='SMART', currency='USD', localSymbol='SPX   230421C04000000', tradingClass='SPX'), Contract(secType='OPT', conId=556806425, symbol='SPX', lastTradeDateOrContractMonth='20230518', strike=4000.0, right='C', multiplier='100', exchange='SMART', currency='USD', localSymbol='SPX   230519C04000000', tradingClass='SPX'), Contract(secType='OPT', conId=559949123, symbol='SPX', lastTradeDateOrContractMonth='20230914', strike=4000.0, right='C', multiplier='100', exchange='SMART', currency='USD', localSymbol='SPX   230915C04000000', tradingClass='SPX'), Contract(secType='OPT', conId=568264088, symbol='SPX', lastTradeDateOrContractMonth='20230720', strike=4000.0, right='C', multiplier='100', exchange='SMART', currency='USD', localSymbol='SPX   230721C04000000', tradingClass='SPX'), Contract(secType='OPT', conId=568267544, symbol='SPX', lastTradeDateOrContractMonth='20240620', strike=4000.0, right='C', multiplier='100', exchange='SMART', currency='USD', localSymbol='SPX   240621C04000000', tradingClass='SPX'), Contract(secType='OPT', conId=571084228, symbol='SPX', lastTradeDateOrContractMonth='20271216', strike=4000.0, right='C', multiplier='100', exchange='SMART', currency='USD', localSymbol='SPX   271217C04000000', tradingClass='SPX'), Contract(secType='OPT', conId=573986258, symbol='SPX', lastTradeDateOrContractMonth='20230817', strike=4000.0, right='C', multiplier='100', exchange='SMART', currency='USD', localSymbol='SPX   230818C04000000', tradingClass='SPX'), Contract(secType='OPT', conId=586002464, symbol='SPX', lastTradeDateOrContractMonth='20231019', strike=4000.0, right='C', multiplier='100', exchange='SMART', currency='USD', localSymbol='SPX   231020C04000000', tradingClass='SPX'), Contract(secType='OPT', conId=586551724, symbol='SPX', lastTradeDateOrContractMonth='20240118', strike=4000.0, right='C', multiplier='100', exchange='SMART', currency='USD', localSymbol='SPX   240119C04000000', tradingClass='SPX'), Contract(secType='OPT', conId=592945508, symbol='SPX', lastTradeDateOrContractMonth='20231116', strike=4000.0, right='C', multiplier='100', exchange='SMART', currency='USD', localSymbol='SPX   231117C04000000', tradingClass='SPX')]\n",
      "Ambiguous contract: Option(symbol='SPX', lastTradeDateOrContractMonth='0', strike=4010.0, right='C', exchange='SMART', tradingClass='SPX'), possibles are [Contract(secType='OPT', conId=564055211, symbol='SPX', lastTradeDateOrContractMonth='20221117', strike=4010.0, right='C', multiplier='100', exchange='SMART', currency='USD', localSymbol='SPX   221118C04010000', tradingClass='SPX'), Contract(secType='OPT', conId=569514429, symbol='SPX', lastTradeDateOrContractMonth='20221215', strike=4010.0, right='C', multiplier='100', exchange='SMART', currency='USD', localSymbol='SPX   221216C04010000', tradingClass='SPX'), Contract(secType='OPT', conId=575215037, symbol='SPX', lastTradeDateOrContractMonth='20230119', strike=4010.0, right='C', multiplier='100', exchange='SMART', currency='USD', localSymbol='SPX   230120C04010000', tradingClass='SPX'), Contract(secType='OPT', conId=581280641, symbol='SPX', lastTradeDateOrContractMonth='20230216', strike=4010.0, right='C', multiplier='100', exchange='SMART', currency='USD', localSymbol='SPX   230217C04010000', tradingClass='SPX'), Contract(secType='OPT', conId=586551076, symbol='SPX', lastTradeDateOrContractMonth='20230316', strike=4010.0, right='C', multiplier='100', exchange='SMART', currency='USD', localSymbol='SPX   230317C04010000', tradingClass='SPX'), Contract(secType='OPT', conId=593339474, symbol='SPX', lastTradeDateOrContractMonth='20230420', strike=4010.0, right='C', multiplier='100', exchange='SMART', currency='USD', localSymbol='SPX   230421C04010000', tradingClass='SPX')]\n",
      "Ambiguous contract: Option(symbol='SPX', lastTradeDateOrContractMonth='2', strike=3980.0, right='C', exchange='SMART', tradingClass='SPX'), possibles are [Contract(secType='OPT', conId=564055201, symbol='SPX', lastTradeDateOrContractMonth='20221117', strike=3980.0, right='C', multiplier='100', exchange='SMART', currency='USD', localSymbol='SPX   221118C03980000', tradingClass='SPX'), Contract(secType='OPT', conId=569514412, symbol='SPX', lastTradeDateOrContractMonth='20221215', strike=3980.0, right='C', multiplier='100', exchange='SMART', currency='USD', localSymbol='SPX   221216C03980000', tradingClass='SPX'), Contract(secType='OPT', conId=575215002, symbol='SPX', lastTradeDateOrContractMonth='20230119', strike=3980.0, right='C', multiplier='100', exchange='SMART', currency='USD', localSymbol='SPX   230120C03980000', tradingClass='SPX'), Contract(secType='OPT', conId=581280618, symbol='SPX', lastTradeDateOrContractMonth='20230216', strike=3980.0, right='C', multiplier='100', exchange='SMART', currency='USD', localSymbol='SPX   230217C03980000', tradingClass='SPX'), Contract(secType='OPT', conId=586551069, symbol='SPX', lastTradeDateOrContractMonth='20230316', strike=3980.0, right='C', multiplier='100', exchange='SMART', currency='USD', localSymbol='SPX   230317C03980000', tradingClass='SPX'), Contract(secType='OPT', conId=593339451, symbol='SPX', lastTradeDateOrContractMonth='20230420', strike=3980.0, right='C', multiplier='100', exchange='SMART', currency='USD', localSymbol='SPX   230421C03980000', tradingClass='SPX')]\n",
      "Ambiguous contract: Option(symbol='SPX', lastTradeDateOrContractMonth='2', strike=3990.0, right='C', exchange='SMART', tradingClass='SPX'), possibles are [Contract(secType='OPT', conId=564055204, symbol='SPX', lastTradeDateOrContractMonth='20221117', strike=3990.0, right='C', multiplier='100', exchange='SMART', currency='USD', localSymbol='SPX   221118C03990000', tradingClass='SPX'), Contract(secType='OPT', conId=569514423, symbol='SPX', lastTradeDateOrContractMonth='20221215', strike=3990.0, right='C', multiplier='100', exchange='SMART', currency='USD', localSymbol='SPX   221216C03990000', tradingClass='SPX'), Contract(secType='OPT', conId=575215026, symbol='SPX', lastTradeDateOrContractMonth='20230119', strike=3990.0, right='C', multiplier='100', exchange='SMART', currency='USD', localSymbol='SPX   230120C03990000', tradingClass='SPX'), Contract(secType='OPT', conId=581280623, symbol='SPX', lastTradeDateOrContractMonth='20230216', strike=3990.0, right='C', multiplier='100', exchange='SMART', currency='USD', localSymbol='SPX   230217C03990000', tradingClass='SPX'), Contract(secType='OPT', conId=586551073, symbol='SPX', lastTradeDateOrContractMonth='20230316', strike=3990.0, right='C', multiplier='100', exchange='SMART', currency='USD', localSymbol='SPX   230317C03990000', tradingClass='SPX'), Contract(secType='OPT', conId=593339462, symbol='SPX', lastTradeDateOrContractMonth='20230420', strike=3990.0, right='C', multiplier='100', exchange='SMART', currency='USD', localSymbol='SPX   230421C03990000', tradingClass='SPX')]\n",
      "Ambiguous contract: Option(symbol='SPX', lastTradeDateOrContractMonth='2', strike=4000.0, right='C', exchange='SMART', tradingClass='SPX'), possibles are [Contract(secType='OPT', conId=397085342, symbol='SPX', lastTradeDateOrContractMonth='20221215', strike=4000.0, right='C', multiplier='100', exchange='SMART', currency='USD', localSymbol='SPX   221216C04000000', tradingClass='SPX'), Contract(secType='OPT', conId=461246561, symbol='SPX', lastTradeDateOrContractMonth='20231214', strike=4000.0, right='C', multiplier='100', exchange='SMART', currency='USD', localSymbol='SPX   231215C04000000', tradingClass='SPX'), Contract(secType='OPT', conId=495791461, symbol='SPX', lastTradeDateOrContractMonth='20230119', strike=4000.0, right='C', multiplier='100', exchange='SMART', currency='USD', localSymbol='SPX   230120C04000000', tradingClass='SPX'), Contract(secType='OPT', conId=497877362, symbol='SPX', lastTradeDateOrContractMonth='20230615', strike=4000.0, right='C', multiplier='100', exchange='SMART', currency='USD', localSymbol='SPX   230616C04000000', tradingClass='SPX'), Contract(secType='OPT', conId=521197687, symbol='SPX', lastTradeDateOrContractMonth='20221117', strike=4000.0, right='C', multiplier='100', exchange='SMART', currency='USD', localSymbol='SPX   221118C04000000', tradingClass='SPX'), Contract(secType='OPT', conId=524129939, symbol='SPX', lastTradeDateOrContractMonth='20241219', strike=4000.0, right='C', multiplier='100', exchange='SMART', currency='USD', localSymbol='SPX   241220C04000000', tradingClass='SPX'), Contract(secType='OPT', conId=524130169, symbol='SPX', lastTradeDateOrContractMonth='20251218', strike=4000.0, right='C', multiplier='100', exchange='SMART', currency='USD', localSymbol='SPX   251219C04000000', tradingClass='SPX'), Contract(secType='OPT', conId=524130385, symbol='SPX', lastTradeDateOrContractMonth='20261217', strike=4000.0, right='C', multiplier='100', exchange='SMART', currency='USD', localSymbol='SPX   261218C04000000', tradingClass='SPX'), Contract(secType='OPT', conId=531885499, symbol='SPX', lastTradeDateOrContractMonth='20230316', strike=4000.0, right='C', multiplier='100', exchange='SMART', currency='USD', localSymbol='SPX   230317C04000000', tradingClass='SPX'), Contract(secType='OPT', conId=538203434, symbol='SPX', lastTradeDateOrContractMonth='20230216', strike=4000.0, right='C', multiplier='100', exchange='SMART', currency='USD', localSymbol='SPX   230217C04000000', tradingClass='SPX'), Contract(secType='OPT', conId=551439873, symbol='SPX', lastTradeDateOrContractMonth='20230420', strike=4000.0, right='C', multiplier='100', exchange='SMART', currency='USD', localSymbol='SPX   230421C04000000', tradingClass='SPX'), Contract(secType='OPT', conId=556806425, symbol='SPX', lastTradeDateOrContractMonth='20230518', strike=4000.0, right='C', multiplier='100', exchange='SMART', currency='USD', localSymbol='SPX   230519C04000000', tradingClass='SPX'), Contract(secType='OPT', conId=559949123, symbol='SPX', lastTradeDateOrContractMonth='20230914', strike=4000.0, right='C', multiplier='100', exchange='SMART', currency='USD', localSymbol='SPX   230915C04000000', tradingClass='SPX'), Contract(secType='OPT', conId=568264088, symbol='SPX', lastTradeDateOrContractMonth='20230720', strike=4000.0, right='C', multiplier='100', exchange='SMART', currency='USD', localSymbol='SPX   230721C04000000', tradingClass='SPX'), Contract(secType='OPT', conId=568267544, symbol='SPX', lastTradeDateOrContractMonth='20240620', strike=4000.0, right='C', multiplier='100', exchange='SMART', currency='USD', localSymbol='SPX   240621C04000000', tradingClass='SPX'), Contract(secType='OPT', conId=571084228, symbol='SPX', lastTradeDateOrContractMonth='20271216', strike=4000.0, right='C', multiplier='100', exchange='SMART', currency='USD', localSymbol='SPX   271217C04000000', tradingClass='SPX'), Contract(secType='OPT', conId=573986258, symbol='SPX', lastTradeDateOrContractMonth='20230817', strike=4000.0, right='C', multiplier='100', exchange='SMART', currency='USD', localSymbol='SPX   230818C04000000', tradingClass='SPX'), Contract(secType='OPT', conId=586002464, symbol='SPX', lastTradeDateOrContractMonth='20231019', strike=4000.0, right='C', multiplier='100', exchange='SMART', currency='USD', localSymbol='SPX   231020C04000000', tradingClass='SPX'), Contract(secType='OPT', conId=586551724, symbol='SPX', lastTradeDateOrContractMonth='20240118', strike=4000.0, right='C', multiplier='100', exchange='SMART', currency='USD', localSymbol='SPX   240119C04000000', tradingClass='SPX'), Contract(secType='OPT', conId=592945508, symbol='SPX', lastTradeDateOrContractMonth='20231116', strike=4000.0, right='C', multiplier='100', exchange='SMART', currency='USD', localSymbol='SPX   231117C04000000', tradingClass='SPX')]\n",
      "Ambiguous contract: Option(symbol='SPX', lastTradeDateOrContractMonth='2', strike=4010.0, right='C', exchange='SMART', tradingClass='SPX'), possibles are [Contract(secType='OPT', conId=564055211, symbol='SPX', lastTradeDateOrContractMonth='20221117', strike=4010.0, right='C', multiplier='100', exchange='SMART', currency='USD', localSymbol='SPX   221118C04010000', tradingClass='SPX'), Contract(secType='OPT', conId=569514429, symbol='SPX', lastTradeDateOrContractMonth='20221215', strike=4010.0, right='C', multiplier='100', exchange='SMART', currency='USD', localSymbol='SPX   221216C04010000', tradingClass='SPX'), Contract(secType='OPT', conId=575215037, symbol='SPX', lastTradeDateOrContractMonth='20230119', strike=4010.0, right='C', multiplier='100', exchange='SMART', currency='USD', localSymbol='SPX   230120C04010000', tradingClass='SPX'), Contract(secType='OPT', conId=581280641, symbol='SPX', lastTradeDateOrContractMonth='20230216', strike=4010.0, right='C', multiplier='100', exchange='SMART', currency='USD', localSymbol='SPX   230217C04010000', tradingClass='SPX'), Contract(secType='OPT', conId=586551076, symbol='SPX', lastTradeDateOrContractMonth='20230316', strike=4010.0, right='C', multiplier='100', exchange='SMART', currency='USD', localSymbol='SPX   230317C04010000', tradingClass='SPX'), Contract(secType='OPT', conId=593339474, symbol='SPX', lastTradeDateOrContractMonth='20230420', strike=4010.0, right='C', multiplier='100', exchange='SMART', currency='USD', localSymbol='SPX   230421C04010000', tradingClass='SPX')]\n",
      "Ambiguous contract: Option(symbol='SPX', lastTradeDateOrContractMonth='2', strike=3980.0, right='C', exchange='SMART', tradingClass='SPX'), possibles are [Contract(secType='OPT', conId=564055201, symbol='SPX', lastTradeDateOrContractMonth='20221117', strike=3980.0, right='C', multiplier='100', exchange='SMART', currency='USD', localSymbol='SPX   221118C03980000', tradingClass='SPX'), Contract(secType='OPT', conId=569514412, symbol='SPX', lastTradeDateOrContractMonth='20221215', strike=3980.0, right='C', multiplier='100', exchange='SMART', currency='USD', localSymbol='SPX   221216C03980000', tradingClass='SPX'), Contract(secType='OPT', conId=575215002, symbol='SPX', lastTradeDateOrContractMonth='20230119', strike=3980.0, right='C', multiplier='100', exchange='SMART', currency='USD', localSymbol='SPX   230120C03980000', tradingClass='SPX'), Contract(secType='OPT', conId=581280618, symbol='SPX', lastTradeDateOrContractMonth='20230216', strike=3980.0, right='C', multiplier='100', exchange='SMART', currency='USD', localSymbol='SPX   230217C03980000', tradingClass='SPX'), Contract(secType='OPT', conId=586551069, symbol='SPX', lastTradeDateOrContractMonth='20230316', strike=3980.0, right='C', multiplier='100', exchange='SMART', currency='USD', localSymbol='SPX   230317C03980000', tradingClass='SPX'), Contract(secType='OPT', conId=593339451, symbol='SPX', lastTradeDateOrContractMonth='20230420', strike=3980.0, right='C', multiplier='100', exchange='SMART', currency='USD', localSymbol='SPX   230421C03980000', tradingClass='SPX')]\n",
      "Ambiguous contract: Option(symbol='SPX', lastTradeDateOrContractMonth='2', strike=3990.0, right='C', exchange='SMART', tradingClass='SPX'), possibles are [Contract(secType='OPT', conId=564055204, symbol='SPX', lastTradeDateOrContractMonth='20221117', strike=3990.0, right='C', multiplier='100', exchange='SMART', currency='USD', localSymbol='SPX   221118C03990000', tradingClass='SPX'), Contract(secType='OPT', conId=569514423, symbol='SPX', lastTradeDateOrContractMonth='20221215', strike=3990.0, right='C', multiplier='100', exchange='SMART', currency='USD', localSymbol='SPX   221216C03990000', tradingClass='SPX'), Contract(secType='OPT', conId=575215026, symbol='SPX', lastTradeDateOrContractMonth='20230119', strike=3990.0, right='C', multiplier='100', exchange='SMART', currency='USD', localSymbol='SPX   230120C03990000', tradingClass='SPX'), Contract(secType='OPT', conId=581280623, symbol='SPX', lastTradeDateOrContractMonth='20230216', strike=3990.0, right='C', multiplier='100', exchange='SMART', currency='USD', localSymbol='SPX   230217C03990000', tradingClass='SPX'), Contract(secType='OPT', conId=586551073, symbol='SPX', lastTradeDateOrContractMonth='20230316', strike=3990.0, right='C', multiplier='100', exchange='SMART', currency='USD', localSymbol='SPX   230317C03990000', tradingClass='SPX'), Contract(secType='OPT', conId=593339462, symbol='SPX', lastTradeDateOrContractMonth='20230420', strike=3990.0, right='C', multiplier='100', exchange='SMART', currency='USD', localSymbol='SPX   230421C03990000', tradingClass='SPX')]\n",
      "Ambiguous contract: Option(symbol='SPX', lastTradeDateOrContractMonth='2', strike=4000.0, right='C', exchange='SMART', tradingClass='SPX'), possibles are [Contract(secType='OPT', conId=397085342, symbol='SPX', lastTradeDateOrContractMonth='20221215', strike=4000.0, right='C', multiplier='100', exchange='SMART', currency='USD', localSymbol='SPX   221216C04000000', tradingClass='SPX'), Contract(secType='OPT', conId=461246561, symbol='SPX', lastTradeDateOrContractMonth='20231214', strike=4000.0, right='C', multiplier='100', exchange='SMART', currency='USD', localSymbol='SPX   231215C04000000', tradingClass='SPX'), Contract(secType='OPT', conId=495791461, symbol='SPX', lastTradeDateOrContractMonth='20230119', strike=4000.0, right='C', multiplier='100', exchange='SMART', currency='USD', localSymbol='SPX   230120C04000000', tradingClass='SPX'), Contract(secType='OPT', conId=497877362, symbol='SPX', lastTradeDateOrContractMonth='20230615', strike=4000.0, right='C', multiplier='100', exchange='SMART', currency='USD', localSymbol='SPX   230616C04000000', tradingClass='SPX'), Contract(secType='OPT', conId=521197687, symbol='SPX', lastTradeDateOrContractMonth='20221117', strike=4000.0, right='C', multiplier='100', exchange='SMART', currency='USD', localSymbol='SPX   221118C04000000', tradingClass='SPX'), Contract(secType='OPT', conId=524129939, symbol='SPX', lastTradeDateOrContractMonth='20241219', strike=4000.0, right='C', multiplier='100', exchange='SMART', currency='USD', localSymbol='SPX   241220C04000000', tradingClass='SPX'), Contract(secType='OPT', conId=524130169, symbol='SPX', lastTradeDateOrContractMonth='20251218', strike=4000.0, right='C', multiplier='100', exchange='SMART', currency='USD', localSymbol='SPX   251219C04000000', tradingClass='SPX'), Contract(secType='OPT', conId=524130385, symbol='SPX', lastTradeDateOrContractMonth='20261217', strike=4000.0, right='C', multiplier='100', exchange='SMART', currency='USD', localSymbol='SPX   261218C04000000', tradingClass='SPX'), Contract(secType='OPT', conId=531885499, symbol='SPX', lastTradeDateOrContractMonth='20230316', strike=4000.0, right='C', multiplier='100', exchange='SMART', currency='USD', localSymbol='SPX   230317C04000000', tradingClass='SPX'), Contract(secType='OPT', conId=538203434, symbol='SPX', lastTradeDateOrContractMonth='20230216', strike=4000.0, right='C', multiplier='100', exchange='SMART', currency='USD', localSymbol='SPX   230217C04000000', tradingClass='SPX'), Contract(secType='OPT', conId=551439873, symbol='SPX', lastTradeDateOrContractMonth='20230420', strike=4000.0, right='C', multiplier='100', exchange='SMART', currency='USD', localSymbol='SPX   230421C04000000', tradingClass='SPX'), Contract(secType='OPT', conId=556806425, symbol='SPX', lastTradeDateOrContractMonth='20230518', strike=4000.0, right='C', multiplier='100', exchange='SMART', currency='USD', localSymbol='SPX   230519C04000000', tradingClass='SPX'), Contract(secType='OPT', conId=559949123, symbol='SPX', lastTradeDateOrContractMonth='20230914', strike=4000.0, right='C', multiplier='100', exchange='SMART', currency='USD', localSymbol='SPX   230915C04000000', tradingClass='SPX'), Contract(secType='OPT', conId=568264088, symbol='SPX', lastTradeDateOrContractMonth='20230720', strike=4000.0, right='C', multiplier='100', exchange='SMART', currency='USD', localSymbol='SPX   230721C04000000', tradingClass='SPX'), Contract(secType='OPT', conId=568267544, symbol='SPX', lastTradeDateOrContractMonth='20240620', strike=4000.0, right='C', multiplier='100', exchange='SMART', currency='USD', localSymbol='SPX   240621C04000000', tradingClass='SPX'), Contract(secType='OPT', conId=571084228, symbol='SPX', lastTradeDateOrContractMonth='20271216', strike=4000.0, right='C', multiplier='100', exchange='SMART', currency='USD', localSymbol='SPX   271217C04000000', tradingClass='SPX'), Contract(secType='OPT', conId=573986258, symbol='SPX', lastTradeDateOrContractMonth='20230817', strike=4000.0, right='C', multiplier='100', exchange='SMART', currency='USD', localSymbol='SPX   230818C04000000', tradingClass='SPX'), Contract(secType='OPT', conId=586002464, symbol='SPX', lastTradeDateOrContractMonth='20231019', strike=4000.0, right='C', multiplier='100', exchange='SMART', currency='USD', localSymbol='SPX   231020C04000000', tradingClass='SPX'), Contract(secType='OPT', conId=586551724, symbol='SPX', lastTradeDateOrContractMonth='20240118', strike=4000.0, right='C', multiplier='100', exchange='SMART', currency='USD', localSymbol='SPX   240119C04000000', tradingClass='SPX'), Contract(secType='OPT', conId=592945508, symbol='SPX', lastTradeDateOrContractMonth='20231116', strike=4000.0, right='C', multiplier='100', exchange='SMART', currency='USD', localSymbol='SPX   231117C04000000', tradingClass='SPX')]\n",
      "Ambiguous contract: Option(symbol='SPX', lastTradeDateOrContractMonth='2', strike=4010.0, right='C', exchange='SMART', tradingClass='SPX'), possibles are [Contract(secType='OPT', conId=564055211, symbol='SPX', lastTradeDateOrContractMonth='20221117', strike=4010.0, right='C', multiplier='100', exchange='SMART', currency='USD', localSymbol='SPX   221118C04010000', tradingClass='SPX'), Contract(secType='OPT', conId=569514429, symbol='SPX', lastTradeDateOrContractMonth='20221215', strike=4010.0, right='C', multiplier='100', exchange='SMART', currency='USD', localSymbol='SPX   221216C04010000', tradingClass='SPX'), Contract(secType='OPT', conId=575215037, symbol='SPX', lastTradeDateOrContractMonth='20230119', strike=4010.0, right='C', multiplier='100', exchange='SMART', currency='USD', localSymbol='SPX   230120C04010000', tradingClass='SPX'), Contract(secType='OPT', conId=581280641, symbol='SPX', lastTradeDateOrContractMonth='20230216', strike=4010.0, right='C', multiplier='100', exchange='SMART', currency='USD', localSymbol='SPX   230217C04010000', tradingClass='SPX'), Contract(secType='OPT', conId=586551076, symbol='SPX', lastTradeDateOrContractMonth='20230316', strike=4010.0, right='C', multiplier='100', exchange='SMART', currency='USD', localSymbol='SPX   230317C04010000', tradingClass='SPX'), Contract(secType='OPT', conId=593339474, symbol='SPX', lastTradeDateOrContractMonth='20230420', strike=4010.0, right='C', multiplier='100', exchange='SMART', currency='USD', localSymbol='SPX   230421C04010000', tradingClass='SPX')]\n",
      "Ambiguous contract: Option(symbol='SPX', lastTradeDateOrContractMonth='1', strike=3980.0, right='C', exchange='SMART', tradingClass='SPX'), possibles are [Contract(secType='OPT', conId=564055201, symbol='SPX', lastTradeDateOrContractMonth='20221117', strike=3980.0, right='C', multiplier='100', exchange='SMART', currency='USD', localSymbol='SPX   221118C03980000', tradingClass='SPX'), Contract(secType='OPT', conId=569514412, symbol='SPX', lastTradeDateOrContractMonth='20221215', strike=3980.0, right='C', multiplier='100', exchange='SMART', currency='USD', localSymbol='SPX   221216C03980000', tradingClass='SPX'), Contract(secType='OPT', conId=575215002, symbol='SPX', lastTradeDateOrContractMonth='20230119', strike=3980.0, right='C', multiplier='100', exchange='SMART', currency='USD', localSymbol='SPX   230120C03980000', tradingClass='SPX'), Contract(secType='OPT', conId=581280618, symbol='SPX', lastTradeDateOrContractMonth='20230216', strike=3980.0, right='C', multiplier='100', exchange='SMART', currency='USD', localSymbol='SPX   230217C03980000', tradingClass='SPX'), Contract(secType='OPT', conId=586551069, symbol='SPX', lastTradeDateOrContractMonth='20230316', strike=3980.0, right='C', multiplier='100', exchange='SMART', currency='USD', localSymbol='SPX   230317C03980000', tradingClass='SPX'), Contract(secType='OPT', conId=593339451, symbol='SPX', lastTradeDateOrContractMonth='20230420', strike=3980.0, right='C', multiplier='100', exchange='SMART', currency='USD', localSymbol='SPX   230421C03980000', tradingClass='SPX')]\n",
      "Ambiguous contract: Option(symbol='SPX', lastTradeDateOrContractMonth='1', strike=3990.0, right='C', exchange='SMART', tradingClass='SPX'), possibles are [Contract(secType='OPT', conId=564055204, symbol='SPX', lastTradeDateOrContractMonth='20221117', strike=3990.0, right='C', multiplier='100', exchange='SMART', currency='USD', localSymbol='SPX   221118C03990000', tradingClass='SPX'), Contract(secType='OPT', conId=569514423, symbol='SPX', lastTradeDateOrContractMonth='20221215', strike=3990.0, right='C', multiplier='100', exchange='SMART', currency='USD', localSymbol='SPX   221216C03990000', tradingClass='SPX'), Contract(secType='OPT', conId=575215026, symbol='SPX', lastTradeDateOrContractMonth='20230119', strike=3990.0, right='C', multiplier='100', exchange='SMART', currency='USD', localSymbol='SPX   230120C03990000', tradingClass='SPX'), Contract(secType='OPT', conId=581280623, symbol='SPX', lastTradeDateOrContractMonth='20230216', strike=3990.0, right='C', multiplier='100', exchange='SMART', currency='USD', localSymbol='SPX   230217C03990000', tradingClass='SPX'), Contract(secType='OPT', conId=586551073, symbol='SPX', lastTradeDateOrContractMonth='20230316', strike=3990.0, right='C', multiplier='100', exchange='SMART', currency='USD', localSymbol='SPX   230317C03990000', tradingClass='SPX'), Contract(secType='OPT', conId=593339462, symbol='SPX', lastTradeDateOrContractMonth='20230420', strike=3990.0, right='C', multiplier='100', exchange='SMART', currency='USD', localSymbol='SPX   230421C03990000', tradingClass='SPX')]\n",
      "Ambiguous contract: Option(symbol='SPX', lastTradeDateOrContractMonth='1', strike=4000.0, right='C', exchange='SMART', tradingClass='SPX'), possibles are [Contract(secType='OPT', conId=397085342, symbol='SPX', lastTradeDateOrContractMonth='20221215', strike=4000.0, right='C', multiplier='100', exchange='SMART', currency='USD', localSymbol='SPX   221216C04000000', tradingClass='SPX'), Contract(secType='OPT', conId=461246561, symbol='SPX', lastTradeDateOrContractMonth='20231214', strike=4000.0, right='C', multiplier='100', exchange='SMART', currency='USD', localSymbol='SPX   231215C04000000', tradingClass='SPX'), Contract(secType='OPT', conId=495791461, symbol='SPX', lastTradeDateOrContractMonth='20230119', strike=4000.0, right='C', multiplier='100', exchange='SMART', currency='USD', localSymbol='SPX   230120C04000000', tradingClass='SPX'), Contract(secType='OPT', conId=497877362, symbol='SPX', lastTradeDateOrContractMonth='20230615', strike=4000.0, right='C', multiplier='100', exchange='SMART', currency='USD', localSymbol='SPX   230616C04000000', tradingClass='SPX'), Contract(secType='OPT', conId=521197687, symbol='SPX', lastTradeDateOrContractMonth='20221117', strike=4000.0, right='C', multiplier='100', exchange='SMART', currency='USD', localSymbol='SPX   221118C04000000', tradingClass='SPX'), Contract(secType='OPT', conId=524129939, symbol='SPX', lastTradeDateOrContractMonth='20241219', strike=4000.0, right='C', multiplier='100', exchange='SMART', currency='USD', localSymbol='SPX   241220C04000000', tradingClass='SPX'), Contract(secType='OPT', conId=524130169, symbol='SPX', lastTradeDateOrContractMonth='20251218', strike=4000.0, right='C', multiplier='100', exchange='SMART', currency='USD', localSymbol='SPX   251219C04000000', tradingClass='SPX'), Contract(secType='OPT', conId=524130385, symbol='SPX', lastTradeDateOrContractMonth='20261217', strike=4000.0, right='C', multiplier='100', exchange='SMART', currency='USD', localSymbol='SPX   261218C04000000', tradingClass='SPX'), Contract(secType='OPT', conId=531885499, symbol='SPX', lastTradeDateOrContractMonth='20230316', strike=4000.0, right='C', multiplier='100', exchange='SMART', currency='USD', localSymbol='SPX   230317C04000000', tradingClass='SPX'), Contract(secType='OPT', conId=538203434, symbol='SPX', lastTradeDateOrContractMonth='20230216', strike=4000.0, right='C', multiplier='100', exchange='SMART', currency='USD', localSymbol='SPX   230217C04000000', tradingClass='SPX'), Contract(secType='OPT', conId=551439873, symbol='SPX', lastTradeDateOrContractMonth='20230420', strike=4000.0, right='C', multiplier='100', exchange='SMART', currency='USD', localSymbol='SPX   230421C04000000', tradingClass='SPX'), Contract(secType='OPT', conId=556806425, symbol='SPX', lastTradeDateOrContractMonth='20230518', strike=4000.0, right='C', multiplier='100', exchange='SMART', currency='USD', localSymbol='SPX   230519C04000000', tradingClass='SPX'), Contract(secType='OPT', conId=559949123, symbol='SPX', lastTradeDateOrContractMonth='20230914', strike=4000.0, right='C', multiplier='100', exchange='SMART', currency='USD', localSymbol='SPX   230915C04000000', tradingClass='SPX'), Contract(secType='OPT', conId=568264088, symbol='SPX', lastTradeDateOrContractMonth='20230720', strike=4000.0, right='C', multiplier='100', exchange='SMART', currency='USD', localSymbol='SPX   230721C04000000', tradingClass='SPX'), Contract(secType='OPT', conId=568267544, symbol='SPX', lastTradeDateOrContractMonth='20240620', strike=4000.0, right='C', multiplier='100', exchange='SMART', currency='USD', localSymbol='SPX   240621C04000000', tradingClass='SPX'), Contract(secType='OPT', conId=571084228, symbol='SPX', lastTradeDateOrContractMonth='20271216', strike=4000.0, right='C', multiplier='100', exchange='SMART', currency='USD', localSymbol='SPX   271217C04000000', tradingClass='SPX'), Contract(secType='OPT', conId=573986258, symbol='SPX', lastTradeDateOrContractMonth='20230817', strike=4000.0, right='C', multiplier='100', exchange='SMART', currency='USD', localSymbol='SPX   230818C04000000', tradingClass='SPX'), Contract(secType='OPT', conId=586002464, symbol='SPX', lastTradeDateOrContractMonth='20231019', strike=4000.0, right='C', multiplier='100', exchange='SMART', currency='USD', localSymbol='SPX   231020C04000000', tradingClass='SPX'), Contract(secType='OPT', conId=586551724, symbol='SPX', lastTradeDateOrContractMonth='20240118', strike=4000.0, right='C', multiplier='100', exchange='SMART', currency='USD', localSymbol='SPX   240119C04000000', tradingClass='SPX'), Contract(secType='OPT', conId=592945508, symbol='SPX', lastTradeDateOrContractMonth='20231116', strike=4000.0, right='C', multiplier='100', exchange='SMART', currency='USD', localSymbol='SPX   231117C04000000', tradingClass='SPX')]\n",
      "Ambiguous contract: Option(symbol='SPX', lastTradeDateOrContractMonth='1', strike=4010.0, right='C', exchange='SMART', tradingClass='SPX'), possibles are [Contract(secType='OPT', conId=564055211, symbol='SPX', lastTradeDateOrContractMonth='20221117', strike=4010.0, right='C', multiplier='100', exchange='SMART', currency='USD', localSymbol='SPX   221118C04010000', tradingClass='SPX'), Contract(secType='OPT', conId=569514429, symbol='SPX', lastTradeDateOrContractMonth='20221215', strike=4010.0, right='C', multiplier='100', exchange='SMART', currency='USD', localSymbol='SPX   221216C04010000', tradingClass='SPX'), Contract(secType='OPT', conId=575215037, symbol='SPX', lastTradeDateOrContractMonth='20230119', strike=4010.0, right='C', multiplier='100', exchange='SMART', currency='USD', localSymbol='SPX   230120C04010000', tradingClass='SPX'), Contract(secType='OPT', conId=581280641, symbol='SPX', lastTradeDateOrContractMonth='20230216', strike=4010.0, right='C', multiplier='100', exchange='SMART', currency='USD', localSymbol='SPX   230217C04010000', tradingClass='SPX'), Contract(secType='OPT', conId=586551076, symbol='SPX', lastTradeDateOrContractMonth='20230316', strike=4010.0, right='C', multiplier='100', exchange='SMART', currency='USD', localSymbol='SPX   230317C04010000', tradingClass='SPX'), Contract(secType='OPT', conId=593339474, symbol='SPX', lastTradeDateOrContractMonth='20230420', strike=4010.0, right='C', multiplier='100', exchange='SMART', currency='USD', localSymbol='SPX   230421C04010000', tradingClass='SPX')]\n",
      "Ambiguous contract: Option(symbol='SPX', lastTradeDateOrContractMonth='1', strike=3980.0, right='C', exchange='SMART', tradingClass='SPX'), possibles are [Contract(secType='OPT', conId=564055201, symbol='SPX', lastTradeDateOrContractMonth='20221117', strike=3980.0, right='C', multiplier='100', exchange='SMART', currency='USD', localSymbol='SPX   221118C03980000', tradingClass='SPX'), Contract(secType='OPT', conId=569514412, symbol='SPX', lastTradeDateOrContractMonth='20221215', strike=3980.0, right='C', multiplier='100', exchange='SMART', currency='USD', localSymbol='SPX   221216C03980000', tradingClass='SPX'), Contract(secType='OPT', conId=575215002, symbol='SPX', lastTradeDateOrContractMonth='20230119', strike=3980.0, right='C', multiplier='100', exchange='SMART', currency='USD', localSymbol='SPX   230120C03980000', tradingClass='SPX'), Contract(secType='OPT', conId=581280618, symbol='SPX', lastTradeDateOrContractMonth='20230216', strike=3980.0, right='C', multiplier='100', exchange='SMART', currency='USD', localSymbol='SPX   230217C03980000', tradingClass='SPX'), Contract(secType='OPT', conId=586551069, symbol='SPX', lastTradeDateOrContractMonth='20230316', strike=3980.0, right='C', multiplier='100', exchange='SMART', currency='USD', localSymbol='SPX   230317C03980000', tradingClass='SPX'), Contract(secType='OPT', conId=593339451, symbol='SPX', lastTradeDateOrContractMonth='20230420', strike=3980.0, right='C', multiplier='100', exchange='SMART', currency='USD', localSymbol='SPX   230421C03980000', tradingClass='SPX')]\n",
      "Ambiguous contract: Option(symbol='SPX', lastTradeDateOrContractMonth='1', strike=3990.0, right='C', exchange='SMART', tradingClass='SPX'), possibles are [Contract(secType='OPT', conId=564055204, symbol='SPX', lastTradeDateOrContractMonth='20221117', strike=3990.0, right='C', multiplier='100', exchange='SMART', currency='USD', localSymbol='SPX   221118C03990000', tradingClass='SPX'), Contract(secType='OPT', conId=569514423, symbol='SPX', lastTradeDateOrContractMonth='20221215', strike=3990.0, right='C', multiplier='100', exchange='SMART', currency='USD', localSymbol='SPX   221216C03990000', tradingClass='SPX'), Contract(secType='OPT', conId=575215026, symbol='SPX', lastTradeDateOrContractMonth='20230119', strike=3990.0, right='C', multiplier='100', exchange='SMART', currency='USD', localSymbol='SPX   230120C03990000', tradingClass='SPX'), Contract(secType='OPT', conId=581280623, symbol='SPX', lastTradeDateOrContractMonth='20230216', strike=3990.0, right='C', multiplier='100', exchange='SMART', currency='USD', localSymbol='SPX   230217C03990000', tradingClass='SPX'), Contract(secType='OPT', conId=586551073, symbol='SPX', lastTradeDateOrContractMonth='20230316', strike=3990.0, right='C', multiplier='100', exchange='SMART', currency='USD', localSymbol='SPX   230317C03990000', tradingClass='SPX'), Contract(secType='OPT', conId=593339462, symbol='SPX', lastTradeDateOrContractMonth='20230420', strike=3990.0, right='C', multiplier='100', exchange='SMART', currency='USD', localSymbol='SPX   230421C03990000', tradingClass='SPX')]\n",
      "Ambiguous contract: Option(symbol='SPX', lastTradeDateOrContractMonth='1', strike=4000.0, right='C', exchange='SMART', tradingClass='SPX'), possibles are [Contract(secType='OPT', conId=397085342, symbol='SPX', lastTradeDateOrContractMonth='20221215', strike=4000.0, right='C', multiplier='100', exchange='SMART', currency='USD', localSymbol='SPX   221216C04000000', tradingClass='SPX'), Contract(secType='OPT', conId=461246561, symbol='SPX', lastTradeDateOrContractMonth='20231214', strike=4000.0, right='C', multiplier='100', exchange='SMART', currency='USD', localSymbol='SPX   231215C04000000', tradingClass='SPX'), Contract(secType='OPT', conId=495791461, symbol='SPX', lastTradeDateOrContractMonth='20230119', strike=4000.0, right='C', multiplier='100', exchange='SMART', currency='USD', localSymbol='SPX   230120C04000000', tradingClass='SPX'), Contract(secType='OPT', conId=497877362, symbol='SPX', lastTradeDateOrContractMonth='20230615', strike=4000.0, right='C', multiplier='100', exchange='SMART', currency='USD', localSymbol='SPX   230616C04000000', tradingClass='SPX'), Contract(secType='OPT', conId=521197687, symbol='SPX', lastTradeDateOrContractMonth='20221117', strike=4000.0, right='C', multiplier='100', exchange='SMART', currency='USD', localSymbol='SPX   221118C04000000', tradingClass='SPX'), Contract(secType='OPT', conId=524129939, symbol='SPX', lastTradeDateOrContractMonth='20241219', strike=4000.0, right='C', multiplier='100', exchange='SMART', currency='USD', localSymbol='SPX   241220C04000000', tradingClass='SPX'), Contract(secType='OPT', conId=524130169, symbol='SPX', lastTradeDateOrContractMonth='20251218', strike=4000.0, right='C', multiplier='100', exchange='SMART', currency='USD', localSymbol='SPX   251219C04000000', tradingClass='SPX'), Contract(secType='OPT', conId=524130385, symbol='SPX', lastTradeDateOrContractMonth='20261217', strike=4000.0, right='C', multiplier='100', exchange='SMART', currency='USD', localSymbol='SPX   261218C04000000', tradingClass='SPX'), Contract(secType='OPT', conId=531885499, symbol='SPX', lastTradeDateOrContractMonth='20230316', strike=4000.0, right='C', multiplier='100', exchange='SMART', currency='USD', localSymbol='SPX   230317C04000000', tradingClass='SPX'), Contract(secType='OPT', conId=538203434, symbol='SPX', lastTradeDateOrContractMonth='20230216', strike=4000.0, right='C', multiplier='100', exchange='SMART', currency='USD', localSymbol='SPX   230217C04000000', tradingClass='SPX'), Contract(secType='OPT', conId=551439873, symbol='SPX', lastTradeDateOrContractMonth='20230420', strike=4000.0, right='C', multiplier='100', exchange='SMART', currency='USD', localSymbol='SPX   230421C04000000', tradingClass='SPX'), Contract(secType='OPT', conId=556806425, symbol='SPX', lastTradeDateOrContractMonth='20230518', strike=4000.0, right='C', multiplier='100', exchange='SMART', currency='USD', localSymbol='SPX   230519C04000000', tradingClass='SPX'), Contract(secType='OPT', conId=559949123, symbol='SPX', lastTradeDateOrContractMonth='20230914', strike=4000.0, right='C', multiplier='100', exchange='SMART', currency='USD', localSymbol='SPX   230915C04000000', tradingClass='SPX'), Contract(secType='OPT', conId=568264088, symbol='SPX', lastTradeDateOrContractMonth='20230720', strike=4000.0, right='C', multiplier='100', exchange='SMART', currency='USD', localSymbol='SPX   230721C04000000', tradingClass='SPX'), Contract(secType='OPT', conId=568267544, symbol='SPX', lastTradeDateOrContractMonth='20240620', strike=4000.0, right='C', multiplier='100', exchange='SMART', currency='USD', localSymbol='SPX   240621C04000000', tradingClass='SPX'), Contract(secType='OPT', conId=571084228, symbol='SPX', lastTradeDateOrContractMonth='20271216', strike=4000.0, right='C', multiplier='100', exchange='SMART', currency='USD', localSymbol='SPX   271217C04000000', tradingClass='SPX'), Contract(secType='OPT', conId=573986258, symbol='SPX', lastTradeDateOrContractMonth='20230817', strike=4000.0, right='C', multiplier='100', exchange='SMART', currency='USD', localSymbol='SPX   230818C04000000', tradingClass='SPX'), Contract(secType='OPT', conId=586002464, symbol='SPX', lastTradeDateOrContractMonth='20231019', strike=4000.0, right='C', multiplier='100', exchange='SMART', currency='USD', localSymbol='SPX   231020C04000000', tradingClass='SPX'), Contract(secType='OPT', conId=586551724, symbol='SPX', lastTradeDateOrContractMonth='20240118', strike=4000.0, right='C', multiplier='100', exchange='SMART', currency='USD', localSymbol='SPX   240119C04000000', tradingClass='SPX'), Contract(secType='OPT', conId=592945508, symbol='SPX', lastTradeDateOrContractMonth='20231116', strike=4000.0, right='C', multiplier='100', exchange='SMART', currency='USD', localSymbol='SPX   231117C04000000', tradingClass='SPX')]\n",
      "Ambiguous contract: Option(symbol='SPX', lastTradeDateOrContractMonth='1', strike=4010.0, right='C', exchange='SMART', tradingClass='SPX'), possibles are [Contract(secType='OPT', conId=564055211, symbol='SPX', lastTradeDateOrContractMonth='20221117', strike=4010.0, right='C', multiplier='100', exchange='SMART', currency='USD', localSymbol='SPX   221118C04010000', tradingClass='SPX'), Contract(secType='OPT', conId=569514429, symbol='SPX', lastTradeDateOrContractMonth='20221215', strike=4010.0, right='C', multiplier='100', exchange='SMART', currency='USD', localSymbol='SPX   221216C04010000', tradingClass='SPX'), Contract(secType='OPT', conId=575215037, symbol='SPX', lastTradeDateOrContractMonth='20230119', strike=4010.0, right='C', multiplier='100', exchange='SMART', currency='USD', localSymbol='SPX   230120C04010000', tradingClass='SPX'), Contract(secType='OPT', conId=581280641, symbol='SPX', lastTradeDateOrContractMonth='20230216', strike=4010.0, right='C', multiplier='100', exchange='SMART', currency='USD', localSymbol='SPX   230217C04010000', tradingClass='SPX'), Contract(secType='OPT', conId=586551076, symbol='SPX', lastTradeDateOrContractMonth='20230316', strike=4010.0, right='C', multiplier='100', exchange='SMART', currency='USD', localSymbol='SPX   230317C04010000', tradingClass='SPX'), Contract(secType='OPT', conId=593339474, symbol='SPX', lastTradeDateOrContractMonth='20230420', strike=4010.0, right='C', multiplier='100', exchange='SMART', currency='USD', localSymbol='SPX   230421C04010000', tradingClass='SPX')]\n",
      "Ambiguous contract: Option(symbol='SPX', lastTradeDateOrContractMonth='1', strike=3980.0, right='C', exchange='SMART', tradingClass='SPX'), possibles are [Contract(secType='OPT', conId=564055201, symbol='SPX', lastTradeDateOrContractMonth='20221117', strike=3980.0, right='C', multiplier='100', exchange='SMART', currency='USD', localSymbol='SPX   221118C03980000', tradingClass='SPX'), Contract(secType='OPT', conId=569514412, symbol='SPX', lastTradeDateOrContractMonth='20221215', strike=3980.0, right='C', multiplier='100', exchange='SMART', currency='USD', localSymbol='SPX   221216C03980000', tradingClass='SPX'), Contract(secType='OPT', conId=575215002, symbol='SPX', lastTradeDateOrContractMonth='20230119', strike=3980.0, right='C', multiplier='100', exchange='SMART', currency='USD', localSymbol='SPX   230120C03980000', tradingClass='SPX'), Contract(secType='OPT', conId=581280618, symbol='SPX', lastTradeDateOrContractMonth='20230216', strike=3980.0, right='C', multiplier='100', exchange='SMART', currency='USD', localSymbol='SPX   230217C03980000', tradingClass='SPX'), Contract(secType='OPT', conId=586551069, symbol='SPX', lastTradeDateOrContractMonth='20230316', strike=3980.0, right='C', multiplier='100', exchange='SMART', currency='USD', localSymbol='SPX   230317C03980000', tradingClass='SPX'), Contract(secType='OPT', conId=593339451, symbol='SPX', lastTradeDateOrContractMonth='20230420', strike=3980.0, right='C', multiplier='100', exchange='SMART', currency='USD', localSymbol='SPX   230421C03980000', tradingClass='SPX')]\n",
      "Ambiguous contract: Option(symbol='SPX', lastTradeDateOrContractMonth='1', strike=3990.0, right='C', exchange='SMART', tradingClass='SPX'), possibles are [Contract(secType='OPT', conId=564055204, symbol='SPX', lastTradeDateOrContractMonth='20221117', strike=3990.0, right='C', multiplier='100', exchange='SMART', currency='USD', localSymbol='SPX   221118C03990000', tradingClass='SPX'), Contract(secType='OPT', conId=569514423, symbol='SPX', lastTradeDateOrContractMonth='20221215', strike=3990.0, right='C', multiplier='100', exchange='SMART', currency='USD', localSymbol='SPX   221216C03990000', tradingClass='SPX'), Contract(secType='OPT', conId=575215026, symbol='SPX', lastTradeDateOrContractMonth='20230119', strike=3990.0, right='C', multiplier='100', exchange='SMART', currency='USD', localSymbol='SPX   230120C03990000', tradingClass='SPX'), Contract(secType='OPT', conId=581280623, symbol='SPX', lastTradeDateOrContractMonth='20230216', strike=3990.0, right='C', multiplier='100', exchange='SMART', currency='USD', localSymbol='SPX   230217C03990000', tradingClass='SPX'), Contract(secType='OPT', conId=586551073, symbol='SPX', lastTradeDateOrContractMonth='20230316', strike=3990.0, right='C', multiplier='100', exchange='SMART', currency='USD', localSymbol='SPX   230317C03990000', tradingClass='SPX'), Contract(secType='OPT', conId=593339462, symbol='SPX', lastTradeDateOrContractMonth='20230420', strike=3990.0, right='C', multiplier='100', exchange='SMART', currency='USD', localSymbol='SPX   230421C03990000', tradingClass='SPX')]\n",
      "Ambiguous contract: Option(symbol='SPX', lastTradeDateOrContractMonth='1', strike=4000.0, right='C', exchange='SMART', tradingClass='SPX'), possibles are [Contract(secType='OPT', conId=397085342, symbol='SPX', lastTradeDateOrContractMonth='20221215', strike=4000.0, right='C', multiplier='100', exchange='SMART', currency='USD', localSymbol='SPX   221216C04000000', tradingClass='SPX'), Contract(secType='OPT', conId=461246561, symbol='SPX', lastTradeDateOrContractMonth='20231214', strike=4000.0, right='C', multiplier='100', exchange='SMART', currency='USD', localSymbol='SPX   231215C04000000', tradingClass='SPX'), Contract(secType='OPT', conId=495791461, symbol='SPX', lastTradeDateOrContractMonth='20230119', strike=4000.0, right='C', multiplier='100', exchange='SMART', currency='USD', localSymbol='SPX   230120C04000000', tradingClass='SPX'), Contract(secType='OPT', conId=497877362, symbol='SPX', lastTradeDateOrContractMonth='20230615', strike=4000.0, right='C', multiplier='100', exchange='SMART', currency='USD', localSymbol='SPX   230616C04000000', tradingClass='SPX'), Contract(secType='OPT', conId=521197687, symbol='SPX', lastTradeDateOrContractMonth='20221117', strike=4000.0, right='C', multiplier='100', exchange='SMART', currency='USD', localSymbol='SPX   221118C04000000', tradingClass='SPX'), Contract(secType='OPT', conId=524129939, symbol='SPX', lastTradeDateOrContractMonth='20241219', strike=4000.0, right='C', multiplier='100', exchange='SMART', currency='USD', localSymbol='SPX   241220C04000000', tradingClass='SPX'), Contract(secType='OPT', conId=524130169, symbol='SPX', lastTradeDateOrContractMonth='20251218', strike=4000.0, right='C', multiplier='100', exchange='SMART', currency='USD', localSymbol='SPX   251219C04000000', tradingClass='SPX'), Contract(secType='OPT', conId=524130385, symbol='SPX', lastTradeDateOrContractMonth='20261217', strike=4000.0, right='C', multiplier='100', exchange='SMART', currency='USD', localSymbol='SPX   261218C04000000', tradingClass='SPX'), Contract(secType='OPT', conId=531885499, symbol='SPX', lastTradeDateOrContractMonth='20230316', strike=4000.0, right='C', multiplier='100', exchange='SMART', currency='USD', localSymbol='SPX   230317C04000000', tradingClass='SPX'), Contract(secType='OPT', conId=538203434, symbol='SPX', lastTradeDateOrContractMonth='20230216', strike=4000.0, right='C', multiplier='100', exchange='SMART', currency='USD', localSymbol='SPX   230217C04000000', tradingClass='SPX'), Contract(secType='OPT', conId=551439873, symbol='SPX', lastTradeDateOrContractMonth='20230420', strike=4000.0, right='C', multiplier='100', exchange='SMART', currency='USD', localSymbol='SPX   230421C04000000', tradingClass='SPX'), Contract(secType='OPT', conId=556806425, symbol='SPX', lastTradeDateOrContractMonth='20230518', strike=4000.0, right='C', multiplier='100', exchange='SMART', currency='USD', localSymbol='SPX   230519C04000000', tradingClass='SPX'), Contract(secType='OPT', conId=559949123, symbol='SPX', lastTradeDateOrContractMonth='20230914', strike=4000.0, right='C', multiplier='100', exchange='SMART', currency='USD', localSymbol='SPX   230915C04000000', tradingClass='SPX'), Contract(secType='OPT', conId=568264088, symbol='SPX', lastTradeDateOrContractMonth='20230720', strike=4000.0, right='C', multiplier='100', exchange='SMART', currency='USD', localSymbol='SPX   230721C04000000', tradingClass='SPX'), Contract(secType='OPT', conId=568267544, symbol='SPX', lastTradeDateOrContractMonth='20240620', strike=4000.0, right='C', multiplier='100', exchange='SMART', currency='USD', localSymbol='SPX   240621C04000000', tradingClass='SPX'), Contract(secType='OPT', conId=571084228, symbol='SPX', lastTradeDateOrContractMonth='20271216', strike=4000.0, right='C', multiplier='100', exchange='SMART', currency='USD', localSymbol='SPX   271217C04000000', tradingClass='SPX'), Contract(secType='OPT', conId=573986258, symbol='SPX', lastTradeDateOrContractMonth='20230817', strike=4000.0, right='C', multiplier='100', exchange='SMART', currency='USD', localSymbol='SPX   230818C04000000', tradingClass='SPX'), Contract(secType='OPT', conId=586002464, symbol='SPX', lastTradeDateOrContractMonth='20231019', strike=4000.0, right='C', multiplier='100', exchange='SMART', currency='USD', localSymbol='SPX   231020C04000000', tradingClass='SPX'), Contract(secType='OPT', conId=586551724, symbol='SPX', lastTradeDateOrContractMonth='20240118', strike=4000.0, right='C', multiplier='100', exchange='SMART', currency='USD', localSymbol='SPX   240119C04000000', tradingClass='SPX'), Contract(secType='OPT', conId=592945508, symbol='SPX', lastTradeDateOrContractMonth='20231116', strike=4000.0, right='C', multiplier='100', exchange='SMART', currency='USD', localSymbol='SPX   231117C04000000', tradingClass='SPX')]\n",
      "Ambiguous contract: Option(symbol='SPX', lastTradeDateOrContractMonth='1', strike=4010.0, right='C', exchange='SMART', tradingClass='SPX'), possibles are [Contract(secType='OPT', conId=564055211, symbol='SPX', lastTradeDateOrContractMonth='20221117', strike=4010.0, right='C', multiplier='100', exchange='SMART', currency='USD', localSymbol='SPX   221118C04010000', tradingClass='SPX'), Contract(secType='OPT', conId=569514429, symbol='SPX', lastTradeDateOrContractMonth='20221215', strike=4010.0, right='C', multiplier='100', exchange='SMART', currency='USD', localSymbol='SPX   221216C04010000', tradingClass='SPX'), Contract(secType='OPT', conId=575215037, symbol='SPX', lastTradeDateOrContractMonth='20230119', strike=4010.0, right='C', multiplier='100', exchange='SMART', currency='USD', localSymbol='SPX   230120C04010000', tradingClass='SPX'), Contract(secType='OPT', conId=581280641, symbol='SPX', lastTradeDateOrContractMonth='20230216', strike=4010.0, right='C', multiplier='100', exchange='SMART', currency='USD', localSymbol='SPX   230217C04010000', tradingClass='SPX'), Contract(secType='OPT', conId=586551076, symbol='SPX', lastTradeDateOrContractMonth='20230316', strike=4010.0, right='C', multiplier='100', exchange='SMART', currency='USD', localSymbol='SPX   230317C04010000', tradingClass='SPX'), Contract(secType='OPT', conId=593339474, symbol='SPX', lastTradeDateOrContractMonth='20230420', strike=4010.0, right='C', multiplier='100', exchange='SMART', currency='USD', localSymbol='SPX   230421C04010000', tradingClass='SPX')]\n",
      "Ambiguous contract: Option(symbol='SPX', lastTradeDateOrContractMonth='7', strike=3980.0, right='C', exchange='SMART', tradingClass='SPX'), possibles are [Contract(secType='OPT', conId=564055201, symbol='SPX', lastTradeDateOrContractMonth='20221117', strike=3980.0, right='C', multiplier='100', exchange='SMART', currency='USD', localSymbol='SPX   221118C03980000', tradingClass='SPX'), Contract(secType='OPT', conId=569514412, symbol='SPX', lastTradeDateOrContractMonth='20221215', strike=3980.0, right='C', multiplier='100', exchange='SMART', currency='USD', localSymbol='SPX   221216C03980000', tradingClass='SPX'), Contract(secType='OPT', conId=575215002, symbol='SPX', lastTradeDateOrContractMonth='20230119', strike=3980.0, right='C', multiplier='100', exchange='SMART', currency='USD', localSymbol='SPX   230120C03980000', tradingClass='SPX'), Contract(secType='OPT', conId=581280618, symbol='SPX', lastTradeDateOrContractMonth='20230216', strike=3980.0, right='C', multiplier='100', exchange='SMART', currency='USD', localSymbol='SPX   230217C03980000', tradingClass='SPX'), Contract(secType='OPT', conId=586551069, symbol='SPX', lastTradeDateOrContractMonth='20230316', strike=3980.0, right='C', multiplier='100', exchange='SMART', currency='USD', localSymbol='SPX   230317C03980000', tradingClass='SPX'), Contract(secType='OPT', conId=593339451, symbol='SPX', lastTradeDateOrContractMonth='20230420', strike=3980.0, right='C', multiplier='100', exchange='SMART', currency='USD', localSymbol='SPX   230421C03980000', tradingClass='SPX')]\n",
      "Ambiguous contract: Option(symbol='SPX', lastTradeDateOrContractMonth='7', strike=3990.0, right='C', exchange='SMART', tradingClass='SPX'), possibles are [Contract(secType='OPT', conId=564055204, symbol='SPX', lastTradeDateOrContractMonth='20221117', strike=3990.0, right='C', multiplier='100', exchange='SMART', currency='USD', localSymbol='SPX   221118C03990000', tradingClass='SPX'), Contract(secType='OPT', conId=569514423, symbol='SPX', lastTradeDateOrContractMonth='20221215', strike=3990.0, right='C', multiplier='100', exchange='SMART', currency='USD', localSymbol='SPX   221216C03990000', tradingClass='SPX'), Contract(secType='OPT', conId=575215026, symbol='SPX', lastTradeDateOrContractMonth='20230119', strike=3990.0, right='C', multiplier='100', exchange='SMART', currency='USD', localSymbol='SPX   230120C03990000', tradingClass='SPX'), Contract(secType='OPT', conId=581280623, symbol='SPX', lastTradeDateOrContractMonth='20230216', strike=3990.0, right='C', multiplier='100', exchange='SMART', currency='USD', localSymbol='SPX   230217C03990000', tradingClass='SPX'), Contract(secType='OPT', conId=586551073, symbol='SPX', lastTradeDateOrContractMonth='20230316', strike=3990.0, right='C', multiplier='100', exchange='SMART', currency='USD', localSymbol='SPX   230317C03990000', tradingClass='SPX'), Contract(secType='OPT', conId=593339462, symbol='SPX', lastTradeDateOrContractMonth='20230420', strike=3990.0, right='C', multiplier='100', exchange='SMART', currency='USD', localSymbol='SPX   230421C03990000', tradingClass='SPX')]\n",
      "Ambiguous contract: Option(symbol='SPX', lastTradeDateOrContractMonth='7', strike=4000.0, right='C', exchange='SMART', tradingClass='SPX'), possibles are [Contract(secType='OPT', conId=397085342, symbol='SPX', lastTradeDateOrContractMonth='20221215', strike=4000.0, right='C', multiplier='100', exchange='SMART', currency='USD', localSymbol='SPX   221216C04000000', tradingClass='SPX'), Contract(secType='OPT', conId=461246561, symbol='SPX', lastTradeDateOrContractMonth='20231214', strike=4000.0, right='C', multiplier='100', exchange='SMART', currency='USD', localSymbol='SPX   231215C04000000', tradingClass='SPX'), Contract(secType='OPT', conId=495791461, symbol='SPX', lastTradeDateOrContractMonth='20230119', strike=4000.0, right='C', multiplier='100', exchange='SMART', currency='USD', localSymbol='SPX   230120C04000000', tradingClass='SPX'), Contract(secType='OPT', conId=497877362, symbol='SPX', lastTradeDateOrContractMonth='20230615', strike=4000.0, right='C', multiplier='100', exchange='SMART', currency='USD', localSymbol='SPX   230616C04000000', tradingClass='SPX'), Contract(secType='OPT', conId=521197687, symbol='SPX', lastTradeDateOrContractMonth='20221117', strike=4000.0, right='C', multiplier='100', exchange='SMART', currency='USD', localSymbol='SPX   221118C04000000', tradingClass='SPX'), Contract(secType='OPT', conId=524129939, symbol='SPX', lastTradeDateOrContractMonth='20241219', strike=4000.0, right='C', multiplier='100', exchange='SMART', currency='USD', localSymbol='SPX   241220C04000000', tradingClass='SPX'), Contract(secType='OPT', conId=524130169, symbol='SPX', lastTradeDateOrContractMonth='20251218', strike=4000.0, right='C', multiplier='100', exchange='SMART', currency='USD', localSymbol='SPX   251219C04000000', tradingClass='SPX'), Contract(secType='OPT', conId=524130385, symbol='SPX', lastTradeDateOrContractMonth='20261217', strike=4000.0, right='C', multiplier='100', exchange='SMART', currency='USD', localSymbol='SPX   261218C04000000', tradingClass='SPX'), Contract(secType='OPT', conId=531885499, symbol='SPX', lastTradeDateOrContractMonth='20230316', strike=4000.0, right='C', multiplier='100', exchange='SMART', currency='USD', localSymbol='SPX   230317C04000000', tradingClass='SPX'), Contract(secType='OPT', conId=538203434, symbol='SPX', lastTradeDateOrContractMonth='20230216', strike=4000.0, right='C', multiplier='100', exchange='SMART', currency='USD', localSymbol='SPX   230217C04000000', tradingClass='SPX'), Contract(secType='OPT', conId=551439873, symbol='SPX', lastTradeDateOrContractMonth='20230420', strike=4000.0, right='C', multiplier='100', exchange='SMART', currency='USD', localSymbol='SPX   230421C04000000', tradingClass='SPX'), Contract(secType='OPT', conId=556806425, symbol='SPX', lastTradeDateOrContractMonth='20230518', strike=4000.0, right='C', multiplier='100', exchange='SMART', currency='USD', localSymbol='SPX   230519C04000000', tradingClass='SPX'), Contract(secType='OPT', conId=559949123, symbol='SPX', lastTradeDateOrContractMonth='20230914', strike=4000.0, right='C', multiplier='100', exchange='SMART', currency='USD', localSymbol='SPX   230915C04000000', tradingClass='SPX'), Contract(secType='OPT', conId=568264088, symbol='SPX', lastTradeDateOrContractMonth='20230720', strike=4000.0, right='C', multiplier='100', exchange='SMART', currency='USD', localSymbol='SPX   230721C04000000', tradingClass='SPX'), Contract(secType='OPT', conId=568267544, symbol='SPX', lastTradeDateOrContractMonth='20240620', strike=4000.0, right='C', multiplier='100', exchange='SMART', currency='USD', localSymbol='SPX   240621C04000000', tradingClass='SPX'), Contract(secType='OPT', conId=571084228, symbol='SPX', lastTradeDateOrContractMonth='20271216', strike=4000.0, right='C', multiplier='100', exchange='SMART', currency='USD', localSymbol='SPX   271217C04000000', tradingClass='SPX'), Contract(secType='OPT', conId=573986258, symbol='SPX', lastTradeDateOrContractMonth='20230817', strike=4000.0, right='C', multiplier='100', exchange='SMART', currency='USD', localSymbol='SPX   230818C04000000', tradingClass='SPX'), Contract(secType='OPT', conId=586002464, symbol='SPX', lastTradeDateOrContractMonth='20231019', strike=4000.0, right='C', multiplier='100', exchange='SMART', currency='USD', localSymbol='SPX   231020C04000000', tradingClass='SPX'), Contract(secType='OPT', conId=586551724, symbol='SPX', lastTradeDateOrContractMonth='20240118', strike=4000.0, right='C', multiplier='100', exchange='SMART', currency='USD', localSymbol='SPX   240119C04000000', tradingClass='SPX'), Contract(secType='OPT', conId=592945508, symbol='SPX', lastTradeDateOrContractMonth='20231116', strike=4000.0, right='C', multiplier='100', exchange='SMART', currency='USD', localSymbol='SPX   231117C04000000', tradingClass='SPX')]\n",
      "Ambiguous contract: Option(symbol='SPX', lastTradeDateOrContractMonth='7', strike=4010.0, right='C', exchange='SMART', tradingClass='SPX'), possibles are [Contract(secType='OPT', conId=564055211, symbol='SPX', lastTradeDateOrContractMonth='20221117', strike=4010.0, right='C', multiplier='100', exchange='SMART', currency='USD', localSymbol='SPX   221118C04010000', tradingClass='SPX'), Contract(secType='OPT', conId=569514429, symbol='SPX', lastTradeDateOrContractMonth='20221215', strike=4010.0, right='C', multiplier='100', exchange='SMART', currency='USD', localSymbol='SPX   221216C04010000', tradingClass='SPX'), Contract(secType='OPT', conId=575215037, symbol='SPX', lastTradeDateOrContractMonth='20230119', strike=4010.0, right='C', multiplier='100', exchange='SMART', currency='USD', localSymbol='SPX   230120C04010000', tradingClass='SPX'), Contract(secType='OPT', conId=581280641, symbol='SPX', lastTradeDateOrContractMonth='20230216', strike=4010.0, right='C', multiplier='100', exchange='SMART', currency='USD', localSymbol='SPX   230217C04010000', tradingClass='SPX'), Contract(secType='OPT', conId=586551076, symbol='SPX', lastTradeDateOrContractMonth='20230316', strike=4010.0, right='C', multiplier='100', exchange='SMART', currency='USD', localSymbol='SPX   230317C04010000', tradingClass='SPX'), Contract(secType='OPT', conId=593339474, symbol='SPX', lastTradeDateOrContractMonth='20230420', strike=4010.0, right='C', multiplier='100', exchange='SMART', currency='USD', localSymbol='SPX   230421C04010000', tradingClass='SPX')]\n"
     ]
    }
   ],
   "source": [
    "\n",
    "contracts = ib.qualifyContracts(*contracts)"
   ]
  },
  {
   "cell_type": "code",
   "execution_count": 39,
   "metadata": {},
   "outputs": [],
   "source": [
    "tickers = ib.reqTickers(*contracts)\n",
    "\n"
   ]
  },
  {
   "cell_type": "code",
   "execution_count": 42,
   "metadata": {},
   "outputs": [
    {
     "data": {
      "text/plain": [
       "0"
      ]
     },
     "execution_count": 42,
     "metadata": {},
     "output_type": "execute_result"
    }
   ],
   "source": [
    "len(tickers)\n"
   ]
  },
  {
   "cell_type": "markdown",
   "metadata": {},
   "source": [
    "Now to get the market data for all options in one go:"
   ]
  },
  {
   "cell_type": "code",
   "execution_count": 37,
   "metadata": {},
   "outputs": [
    {
     "ename": "IndexError",
     "evalue": "list index out of range",
     "output_type": "error",
     "traceback": [
      "\u001b[1;31m---------------------------------------------------------------------------\u001b[0m",
      "\u001b[1;31mIndexError\u001b[0m                                Traceback (most recent call last)",
      "Cell \u001b[1;32mIn [37], line 3\u001b[0m\n\u001b[0;32m      2\u001b[0m \u001b[38;5;28;01mtry\u001b[39;00m:\n\u001b[1;32m----> 3\u001b[0m     \u001b[38;5;28;01mif\u001b[39;00m(tickers[\u001b[38;5;241m0\u001b[39m]\u001b[38;5;241m.\u001b[39mmodelGreeks\u001b[38;5;241m.\u001b[39mdelta\u001b[38;5;241m!=\u001b[39m\u001b[38;5;124m\"\u001b[39m\u001b[38;5;124mnan\u001b[39m\u001b[38;5;124m\"\u001b[39m):\n\u001b[0;32m      4\u001b[0m         \u001b[38;5;28;01mbreak\u001b[39;00m\n",
      "\u001b[1;31mIndexError\u001b[0m: list index out of range",
      "\nDuring handling of the above exception, another exception occurred:\n",
      "\u001b[1;31mIndexError\u001b[0m                                Traceback (most recent call last)",
      "Cell \u001b[1;32mIn [37], line 7\u001b[0m\n\u001b[0;32m      5\u001b[0m \u001b[38;5;28;01mexcept\u001b[39;00m:\n\u001b[0;32m      6\u001b[0m     ib\u001b[38;5;241m.\u001b[39msleep(\u001b[38;5;241m15\u001b[39m)\n\u001b[1;32m----> 7\u001b[0m     \u001b[38;5;28mprint\u001b[39m(tickers[\u001b[38;5;241m0\u001b[39m])\n",
      "\u001b[1;31mIndexError\u001b[0m: list index out of range"
     ]
    }
   ],
   "source": [
    "while True:\n",
    "    try:\n",
    "        if(tickers[0].modelGreeks.delta!=\"nan\"):\n",
    "            break\n",
    "    except:\n",
    "        ib.sleep(15)\n",
    "        print(tickers[0])\n",
    "        \n"
   ]
  },
  {
   "cell_type": "code",
   "execution_count": null,
   "metadata": {},
   "outputs": [
    {
     "ename": "IndexError",
     "evalue": "list index out of range",
     "output_type": "error",
     "traceback": [
      "\u001b[1;31m---------------------------------------------------------------------------\u001b[0m",
      "\u001b[1;31mIndexError\u001b[0m                                Traceback (most recent call last)",
      "Cell \u001b[1;32mIn [24], line 1\u001b[0m\n\u001b[1;32m----> 1\u001b[0m tickers[\u001b[38;5;241m1\u001b[39m]\n",
      "\u001b[1;31mIndexError\u001b[0m: list index out of range"
     ]
    }
   ],
   "source": [
    "tickers[1]"
   ]
  },
  {
   "cell_type": "code",
   "execution_count": null,
   "metadata": {},
   "outputs": [
    {
     "name": "stdout",
     "output_type": "stream",
     "text": [
      "[-0.3820113914183043, -0.4028697848242917, -0.42443113293032986, -0.44630653581568747, -0.4683912358641398, -0.49076774197987005, -0.5132701737503088, -0.5357823103464316, -0.4374774205597405, -0.4448286418807249, -0.4522171440571304, -0.459658812720667, -0.4671442519271465, -0.4746663815255776, -0.48222593612406284, -0.48981553020444046, 0.618339582140387, 0.5971302630869213, 0.5754260447530566, 0.5536935008740775, 0.5316087828191498, 0.5092293564992099, 0.486766023733564, 0.4642228945650104, 0.5624891431936443, 0.5551713581192751, 0.5477828559428696, 0.540330742171642, 0.5328557480728535, 0.5253336184744224, 0.5177740638759372, 0.5101844697955595]\n"
     ]
    }
   ],
   "source": [
    "d=[tick.modelGreeks.delta for tick in tickers]\n",
    "print(d)"
   ]
  },
  {
   "cell_type": "code",
   "execution_count": null,
   "metadata": {},
   "outputs": [
    {
     "data": {
      "text/plain": [
       "nan"
      ]
     },
     "execution_count": 61,
     "metadata": {},
     "output_type": "execute_result"
    }
   ],
   "source": [
    "ib.sleep(1)\n",
    "a=tickers[0].marketPrice()\n",
    "ib.sleep(1)\n",
    "a\n"
   ]
  },
  {
   "cell_type": "code",
   "execution_count": null,
   "metadata": {},
   "outputs": [
    {
     "name": "stderr",
     "output_type": "stream",
     "text": [
      "Error 10197, reqId 70: No market data during competing live session, contract: Option(conId=564055486, symbol='SPX', lastTradeDateOrContractMonth='20221117', strike=3960.0, right='P', multiplier='100', exchange='SMART', currency='USD', localSymbol='SPX   221118P03960000', tradingClass='SPX')\n"
     ]
    },
    {
     "name": "stdout",
     "output_type": "stream",
     "text": [
      "Ticker(contract=Option(conId=564055486, symbol='SPX', lastTradeDateOrContractMonth='20221117', strike=3960.0, right='P', multiplier='100', exchange='SMART', currency='USD', localSymbol='SPX   221118P03960000', tradingClass='SPX'), time=datetime.datetime(2022, 11, 14, 16, 44, 3, 397015, tzinfo=datetime.timezone.utc), marketDataType=3, minTick=0.0, bidGreeks=OptionComputation(tickAttrib=0, impliedVol=0.2100173122815329, delta=None, optPrice=None, pvDividend=3.1216504998015226, gamma=None, vega=None, theta=None, undPrice=3987.919921875), askGreeks=OptionComputation(tickAttrib=0, impliedVol=0.21230776183904648, delta=None, optPrice=None, pvDividend=3.1216504998015226, gamma=None, vega=None, theta=None, undPrice=3987.919921875), lastGreeks=OptionComputation(tickAttrib=0, impliedVol=0.20694681105468843, delta=None, optPrice=None, pvDividend=3.1216504998015226, gamma=None, vega=None, theta=None, undPrice=3987.919921875), modelGreeks=OptionComputation(tickAttrib=0, impliedVol=0.21124643901868784, delta=-0.3820113914183043, optPrice=24.44734998943923, pvDividend=3.1216504998015226, gamma=0.004214204857571092, vega=1.6337130890773939, theta=-3.92234475261678, undPrice=3987.3701171875), bboExchange='c70003', snapshotPermissions=1)\n"
     ]
    },
    {
     "data": {
      "text/plain": [
       "nan"
      ]
     },
     "execution_count": 62,
     "metadata": {},
     "output_type": "execute_result"
    }
   ],
   "source": [
    "[ticker] = ib.reqTickers(contracts[0])\n",
    "print(ticker)\n",
    "b=ticker.marketPrice()\n",
    "b"
   ]
  },
  {
   "cell_type": "code",
   "execution_count": null,
   "metadata": {},
   "outputs": [
    {
     "data": {
      "text/plain": [
       "Option(conId=564055486, symbol='SPX', lastTradeDateOrContractMonth='20221117', strike=3960.0, right='P', multiplier='100', exchange='SMART', currency='USD', localSymbol='SPX   221118P03960000', tradingClass='SPX')"
      ]
     },
     "execution_count": 63,
     "metadata": {},
     "output_type": "execute_result"
    }
   ],
   "source": [
    "contracts[0]"
   ]
  },
  {
   "cell_type": "markdown",
   "metadata": {},
   "source": [
    "The option greeks are available from the ``modelGreeks`` attribute, and if there is a bid, ask resp. last price available also from ``bidGreeks``, ``askGreeks`` and ``lastGreeks``. For streaming ticks the greek values will be kept up to date to the current market situation."
   ]
  },
  {
   "cell_type": "code",
   "execution_count": null,
   "metadata": {},
   "outputs": [
    {
     "name": "stdout",
     "output_type": "stream",
     "text": [
      "[-0.3820113914183043, -0.4028697848242917, -0.42443113293032986, -0.44630653581568747, -0.4683912358641398, -0.49076774197987005, -0.5132701737503088, -0.5357823103464316, -0.4374774205597405, -0.4448286418807249, -0.4522171440571304, -0.459658812720667, -0.4671442519271465, -0.4746663815255776, -0.48222593612406284, -0.48981553020444046, 0.618339582140387, 0.5971302630869213, 0.5754260447530566, 0.5536935008740775, 0.5316087828191498, 0.5092293564992099, 0.486766023733564, 0.4642228945650104, 0.5624891431936443, 0.5551713581192751, 0.5477828559428696, 0.540330742171642, 0.5328557480728535, 0.5253336184744224, 0.5177740638759372, 0.5101844697955595]\n"
     ]
    }
   ],
   "source": [
    "d=[tick.modelGreeks.delta for tick in tickers]\n",
    "print(d)\n",
    "#ib.disconnect()"
   ]
  }
 ],
 "metadata": {
  "kernelspec": {
   "display_name": "Python 3.10.7 64-bit",
   "language": "python",
   "name": "python3"
  },
  "language_info": {
   "codemirror_mode": {
    "name": "ipython",
    "version": 3
   },
   "file_extension": ".py",
   "mimetype": "text/x-python",
   "name": "python",
   "nbconvert_exporter": "python",
   "pygments_lexer": "ipython3",
   "version": "3.10.7"
  },
  "vscode": {
   "interpreter": {
    "hash": "26de051ba29f2982a8de78e945f0abaf191376122a1563185a90213a26c5da77"
   }
  }
 },
 "nbformat": 4,
 "nbformat_minor": 4
}
